{
  "nbformat": 4,
  "nbformat_minor": 0,
  "metadata": {
    "kernelspec": {
      "display_name": "Python 3",
      "language": "python",
      "name": "python3"
    },
    "language_info": {
      "codemirror_mode": {
        "name": "ipython",
        "version": 3
      },
      "file_extension": ".py",
      "mimetype": "text/x-python",
      "name": "python",
      "nbconvert_exporter": "python",
      "pygments_lexer": "ipython3",
      "version": "3.7.4"
    },
    "colab": {
      "name": "task1.ipynb",
      "provenance": []
    }
  },
  "cells": [
    {
      "cell_type": "markdown",
      "metadata": {
        "id": "2sYc9lOHfWUD",
        "colab_type": "text"
      },
      "source": [
        "## AML Homework 4 Task 1\n",
        "## UNI: hs3159 Name: Harguna Sood\n",
        "## UNI: sv2609 Name: Siddhanth Vinay "
      ]
    },
    {
      "cell_type": "code",
      "metadata": {
        "id": "bsBOakjQZYKd",
        "colab_type": "code",
        "colab": {
          "base_uri": "https://localhost:8080/",
          "height": 293
        },
        "outputId": "959ee7fb-961b-41f0-bde6-55bb4cc308f8"
      },
      "source": [
        "!pip install category_encoders"
      ],
      "execution_count": 1,
      "outputs": [
        {
          "output_type": "stream",
          "text": [
            "Collecting category_encoders\n",
            "\u001b[?25l  Downloading https://files.pythonhosted.org/packages/a0/52/c54191ad3782de633ea3d6ee3bb2837bda0cf3bc97644bb6375cf14150a0/category_encoders-2.1.0-py2.py3-none-any.whl (100kB)\n",
            "\r\u001b[K     |███▎                            | 10kB 19.1MB/s eta 0:00:01\r\u001b[K     |██████▌                         | 20kB 3.2MB/s eta 0:00:01\r\u001b[K     |█████████▉                      | 30kB 4.0MB/s eta 0:00:01\r\u001b[K     |█████████████                   | 40kB 3.0MB/s eta 0:00:01\r\u001b[K     |████████████████▍               | 51kB 3.2MB/s eta 0:00:01\r\u001b[K     |███████████████████▋            | 61kB 3.8MB/s eta 0:00:01\r\u001b[K     |██████████████████████▉         | 71kB 4.1MB/s eta 0:00:01\r\u001b[K     |██████████████████████████▏     | 81kB 4.2MB/s eta 0:00:01\r\u001b[K     |█████████████████████████████▍  | 92kB 4.7MB/s eta 0:00:01\r\u001b[K     |████████████████████████████████| 102kB 3.7MB/s \n",
            "\u001b[?25hRequirement already satisfied: statsmodels>=0.6.1 in /usr/local/lib/python3.6/dist-packages (from category_encoders) (0.10.2)\n",
            "Requirement already satisfied: numpy>=1.11.3 in /usr/local/lib/python3.6/dist-packages (from category_encoders) (1.18.2)\n",
            "Requirement already satisfied: scipy>=0.19.0 in /usr/local/lib/python3.6/dist-packages (from category_encoders) (1.4.1)\n",
            "Requirement already satisfied: scikit-learn>=0.20.0 in /usr/local/lib/python3.6/dist-packages (from category_encoders) (0.22.2.post1)\n",
            "Requirement already satisfied: pandas>=0.21.1 in /usr/local/lib/python3.6/dist-packages (from category_encoders) (1.0.3)\n",
            "Requirement already satisfied: patsy>=0.4.1 in /usr/local/lib/python3.6/dist-packages (from category_encoders) (0.5.1)\n",
            "Requirement already satisfied: joblib>=0.11 in /usr/local/lib/python3.6/dist-packages (from scikit-learn>=0.20.0->category_encoders) (0.14.1)\n",
            "Requirement already satisfied: python-dateutil>=2.6.1 in /usr/local/lib/python3.6/dist-packages (from pandas>=0.21.1->category_encoders) (2.8.1)\n",
            "Requirement already satisfied: pytz>=2017.2 in /usr/local/lib/python3.6/dist-packages (from pandas>=0.21.1->category_encoders) (2018.9)\n",
            "Requirement already satisfied: six in /usr/local/lib/python3.6/dist-packages (from patsy>=0.4.1->category_encoders) (1.12.0)\n",
            "Installing collected packages: category-encoders\n",
            "Successfully installed category-encoders-2.1.0\n"
          ],
          "name": "stdout"
        }
      ]
    },
    {
      "cell_type": "code",
      "metadata": {
        "id": "NdR1dmSCk7VY",
        "colab_type": "code",
        "colab": {}
      },
      "source": [
        "import pandas as pd\n",
        "import matplotlib.pyplot as plt\n",
        "from sklearn.compose import make_column_transformer\n",
        "from sklearn.ensemble import  GradientBoostingRegressor\n",
        "from sklearn.pipeline import  make_pipeline\n",
        "from sklearn.model_selection import cross_val_score\n",
        "from sklearn.preprocessing import OneHotEncoder \n",
        "from category_encoders.target_encoder import TargetEncoder\n",
        "import numpy as np\n",
        "from sklearn.impute import SimpleImputer\n",
        "from sklearn.linear_model import Ridge\n",
        "from sklearn.preprocessing import StandardScaler\n",
        "from sklearn.model_selection import train_test_split as tts\n",
        "from sklearn.model_selection import GridSearchCV\n",
        "from sklearn.feature_extraction.text import CountVectorizer , TfidfTransformer"
      ],
      "execution_count": 0,
      "outputs": []
    },
    {
      "cell_type": "code",
      "metadata": {
        "id": "xoekZ8h7ZbQF",
        "colab_type": "code",
        "colab": {
          "base_uri": "https://localhost:8080/",
          "height": 129
        },
        "outputId": "093ee856-5f81-4a50-8a2c-7e883c43cefa"
      },
      "source": [
        "from google.colab import drive\n",
        "drive.mount('/content/gdrive')"
      ],
      "execution_count": 3,
      "outputs": [
        {
          "output_type": "stream",
          "text": [
            "Go to this URL in a browser: https://accounts.google.com/o/oauth2/auth?client_id=947318989803-6bn6qk8qdgf4n4g3pfee6491hc0brc4i.apps.googleusercontent.com&redirect_uri=urn%3aietf%3awg%3aoauth%3a2.0%3aoob&response_type=code&scope=email%20https%3a%2f%2fwww.googleapis.com%2fauth%2fdocs.test%20https%3a%2f%2fwww.googleapis.com%2fauth%2fdrive%20https%3a%2f%2fwww.googleapis.com%2fauth%2fdrive.photos.readonly%20https%3a%2f%2fwww.googleapis.com%2fauth%2fpeopleapi.readonly\n",
            "\n",
            "Enter your authorization code:\n",
            "··········\n",
            "Mounted at /content/gdrive\n"
          ],
          "name": "stdout"
        }
      ]
    },
    {
      "cell_type": "code",
      "metadata": {
        "id": "pVxnfupkk7Vs",
        "colab_type": "code",
        "colab": {}
      },
      "source": [
        "data = pd.read_csv(\"/content/gdrive/My Drive/winemag-data-130k-v2.csv\")"
      ],
      "execution_count": 0,
      "outputs": []
    },
    {
      "cell_type": "markdown",
      "metadata": {
        "id": "HNrdjqjHk7V-",
        "colab_type": "text"
      },
      "source": [
        "#### Using data for US"
      ]
    },
    {
      "cell_type": "code",
      "metadata": {
        "id": "2Buu3sj_k7WA",
        "colab_type": "code",
        "colab": {}
      },
      "source": [
        "data = data.drop([\"Unnamed: 0\"], axis = 1)\n",
        "data = data[data[\"country\"] == \"US\"].reset_index(drop=True)\n",
        "data = data.drop([\"country\"], axis = 1)"
      ],
      "execution_count": 0,
      "outputs": []
    },
    {
      "cell_type": "code",
      "metadata": {
        "scrolled": true,
        "id": "uekjECnzk7WM",
        "colab_type": "code",
        "colab": {
          "base_uri": "https://localhost:8080/",
          "height": 293
        },
        "outputId": "ae7833a0-e7f5-434c-fa6e-f5b21f143fe8"
      },
      "source": [
        "data.head()"
      ],
      "execution_count": 6,
      "outputs": [
        {
          "output_type": "execute_result",
          "data": {
            "text/html": [
              "<div>\n",
              "<style scoped>\n",
              "    .dataframe tbody tr th:only-of-type {\n",
              "        vertical-align: middle;\n",
              "    }\n",
              "\n",
              "    .dataframe tbody tr th {\n",
              "        vertical-align: top;\n",
              "    }\n",
              "\n",
              "    .dataframe thead th {\n",
              "        text-align: right;\n",
              "    }\n",
              "</style>\n",
              "<table border=\"1\" class=\"dataframe\">\n",
              "  <thead>\n",
              "    <tr style=\"text-align: right;\">\n",
              "      <th></th>\n",
              "      <th>description</th>\n",
              "      <th>designation</th>\n",
              "      <th>points</th>\n",
              "      <th>price</th>\n",
              "      <th>province</th>\n",
              "      <th>region_1</th>\n",
              "      <th>region_2</th>\n",
              "      <th>taster_name</th>\n",
              "      <th>taster_twitter_handle</th>\n",
              "      <th>title</th>\n",
              "      <th>variety</th>\n",
              "      <th>winery</th>\n",
              "    </tr>\n",
              "  </thead>\n",
              "  <tbody>\n",
              "    <tr>\n",
              "      <th>0</th>\n",
              "      <td>Tart and snappy, the flavors of lime flesh and...</td>\n",
              "      <td>NaN</td>\n",
              "      <td>87</td>\n",
              "      <td>14.0</td>\n",
              "      <td>Oregon</td>\n",
              "      <td>Willamette Valley</td>\n",
              "      <td>Willamette Valley</td>\n",
              "      <td>Paul Gregutt</td>\n",
              "      <td>@paulgwine</td>\n",
              "      <td>Rainstorm 2013 Pinot Gris (Willamette Valley)</td>\n",
              "      <td>Pinot Gris</td>\n",
              "      <td>Rainstorm</td>\n",
              "    </tr>\n",
              "    <tr>\n",
              "      <th>1</th>\n",
              "      <td>Pineapple rind, lemon pith and orange blossom ...</td>\n",
              "      <td>Reserve Late Harvest</td>\n",
              "      <td>87</td>\n",
              "      <td>13.0</td>\n",
              "      <td>Michigan</td>\n",
              "      <td>Lake Michigan Shore</td>\n",
              "      <td>NaN</td>\n",
              "      <td>Alexander Peartree</td>\n",
              "      <td>NaN</td>\n",
              "      <td>St. Julian 2013 Reserve Late Harvest Riesling ...</td>\n",
              "      <td>Riesling</td>\n",
              "      <td>St. Julian</td>\n",
              "    </tr>\n",
              "    <tr>\n",
              "      <th>2</th>\n",
              "      <td>Much like the regular bottling from 2012, this...</td>\n",
              "      <td>Vintner's Reserve Wild Child Block</td>\n",
              "      <td>87</td>\n",
              "      <td>65.0</td>\n",
              "      <td>Oregon</td>\n",
              "      <td>Willamette Valley</td>\n",
              "      <td>Willamette Valley</td>\n",
              "      <td>Paul Gregutt</td>\n",
              "      <td>@paulgwine</td>\n",
              "      <td>Sweet Cheeks 2012 Vintner's Reserve Wild Child...</td>\n",
              "      <td>Pinot Noir</td>\n",
              "      <td>Sweet Cheeks</td>\n",
              "    </tr>\n",
              "    <tr>\n",
              "      <th>3</th>\n",
              "      <td>Soft, supple plum envelopes an oaky structure ...</td>\n",
              "      <td>Mountain Cuvée</td>\n",
              "      <td>87</td>\n",
              "      <td>19.0</td>\n",
              "      <td>California</td>\n",
              "      <td>Napa Valley</td>\n",
              "      <td>Napa</td>\n",
              "      <td>Virginie Boone</td>\n",
              "      <td>@vboone</td>\n",
              "      <td>Kirkland Signature 2011 Mountain Cuvée Caberne...</td>\n",
              "      <td>Cabernet Sauvignon</td>\n",
              "      <td>Kirkland Signature</td>\n",
              "    </tr>\n",
              "    <tr>\n",
              "      <th>4</th>\n",
              "      <td>Slightly reduced, this wine offers a chalky, t...</td>\n",
              "      <td>NaN</td>\n",
              "      <td>87</td>\n",
              "      <td>34.0</td>\n",
              "      <td>California</td>\n",
              "      <td>Alexander Valley</td>\n",
              "      <td>Sonoma</td>\n",
              "      <td>Virginie Boone</td>\n",
              "      <td>@vboone</td>\n",
              "      <td>Louis M. Martini 2012 Cabernet Sauvignon (Alex...</td>\n",
              "      <td>Cabernet Sauvignon</td>\n",
              "      <td>Louis M. Martini</td>\n",
              "    </tr>\n",
              "  </tbody>\n",
              "</table>\n",
              "</div>"
            ],
            "text/plain": [
              "                                         description  ...              winery\n",
              "0  Tart and snappy, the flavors of lime flesh and...  ...           Rainstorm\n",
              "1  Pineapple rind, lemon pith and orange blossom ...  ...          St. Julian\n",
              "2  Much like the regular bottling from 2012, this...  ...        Sweet Cheeks\n",
              "3  Soft, supple plum envelopes an oaky structure ...  ...  Kirkland Signature\n",
              "4  Slightly reduced, this wine offers a chalky, t...  ...    Louis M. Martini\n",
              "\n",
              "[5 rows x 12 columns]"
            ]
          },
          "metadata": {
            "tags": []
          },
          "execution_count": 6
        }
      ]
    },
    {
      "cell_type": "markdown",
      "metadata": {
        "id": "eydydJ7Mk7WZ",
        "colab_type": "text"
      },
      "source": [
        "#### Extracting year from title"
      ]
    },
    {
      "cell_type": "code",
      "metadata": {
        "id": "icVV5AFGk7Wb",
        "colab_type": "code",
        "colab": {}
      },
      "source": [
        "data[\"title\"] = data[\"title\"].str.extract(r'(\\d{4})')"
      ],
      "execution_count": 0,
      "outputs": []
    },
    {
      "cell_type": "markdown",
      "metadata": {
        "id": "NY1eL3GNk7Wn",
        "colab_type": "text"
      },
      "source": [
        "#### Using taster_name instead of taster_Twitter_handle as both will roughy give the same results, but taster_twitter_handle has more null values."
      ]
    },
    {
      "cell_type": "code",
      "metadata": {
        "id": "eMTaVHn-k7Wp",
        "colab_type": "code",
        "colab": {}
      },
      "source": [
        "data = data.drop([\"taster_twitter_handle\"], axis = 1)"
      ],
      "execution_count": 0,
      "outputs": []
    },
    {
      "cell_type": "code",
      "metadata": {
        "id": "T2ePKJH3k7W0",
        "colab_type": "code",
        "colab": {}
      },
      "source": [
        "text_feat = [\"description\"] # can get year from title\n",
        "low_card_cat_feat = [\"region_2\", \"taster_name\"]  # one hot encoding \n",
        "high_card_cat_feat = [\"designation\", \"province\", \"region_1\", \"winery\", \"variety\"] # target encoding\n",
        "cont_feat = [\"price\", \"title\"]\n",
        "target = [\"points\"]"
      ],
      "execution_count": 0,
      "outputs": []
    },
    {
      "cell_type": "markdown",
      "metadata": {
        "id": "W4-I7mhWk7W8",
        "colab_type": "text"
      },
      "source": [
        "## Removing outliers "
      ]
    },
    {
      "cell_type": "code",
      "metadata": {
        "id": "X5QzWD7Hk7W-",
        "colab_type": "code",
        "colab": {
          "base_uri": "https://localhost:8080/",
          "height": 342
        },
        "outputId": "9ccb899e-ce14-486b-f5ba-6376a487e426"
      },
      "source": [
        "fig, ax = plt.subplots(1,5, figsize=(20, 4));\n",
        "ax[0].hist(data[\"price\"]);\n",
        "ax[1].hist(data[data[\"price\"]<=500][\"price\"]);\n",
        "ax[2].hist(data[data[\"price\"]<=250][\"price\"]);\n",
        "ax[3].hist(data[data[\"price\"]<=100][\"price\"]);\n",
        "ax[4].hist(data[data[\"price\"]<=70][\"price\"]);"
      ],
      "execution_count": 10,
      "outputs": [
        {
          "output_type": "stream",
          "text": [
            "/usr/local/lib/python3.6/dist-packages/numpy/lib/histograms.py:839: RuntimeWarning: invalid value encountered in greater_equal\n",
            "  keep = (tmp_a >= first_edge)\n",
            "/usr/local/lib/python3.6/dist-packages/numpy/lib/histograms.py:840: RuntimeWarning: invalid value encountered in less_equal\n",
            "  keep &= (tmp_a <= last_edge)\n"
          ],
          "name": "stderr"
        },
        {
          "output_type": "display_data",
          "data": {
            "image/png": "[encoded data removed]",
            "text/plain": [
              "<Figure size 1440x288 with 5 Axes>"
            ]
          },
          "metadata": {
            "tags": [],
            "needs_background": "light"
          }
        }
      ]
    },
    {
      "cell_type": "code",
      "metadata": {
        "id": "n5c8WX6Sk7XJ",
        "colab_type": "code",
        "colab": {
          "base_uri": "https://localhost:8080/",
          "height": 35
        },
        "outputId": "bd4297d9-00d1-44d6-bb4c-5ab78aca1529"
      },
      "source": [
        "data.shape"
      ],
      "execution_count": 11,
      "outputs": [
        {
          "output_type": "execute_result",
          "data": {
            "text/plain": [
              "(54504, 11)"
            ]
          },
          "metadata": {
            "tags": []
          },
          "execution_count": 11
        }
      ]
    },
    {
      "cell_type": "code",
      "metadata": {
        "id": "Fpy9yL5Pk7XT",
        "colab_type": "code",
        "colab": {
          "base_uri": "https://localhost:8080/",
          "height": 35
        },
        "outputId": "67de0cd0-5cd5-4119-e920-c1f1d0f7f439"
      },
      "source": [
        "data = data[data[\"price\"] <= 70]\n",
        "data.shape"
      ],
      "execution_count": 12,
      "outputs": [
        {
          "output_type": "execute_result",
          "data": {
            "text/plain": [
              "(50521, 11)"
            ]
          },
          "metadata": {
            "tags": []
          },
          "execution_count": 12
        }
      ]
    },
    {
      "cell_type": "code",
      "metadata": {
        "scrolled": true,
        "id": "ivdOONIVk7Xg",
        "colab_type": "code",
        "colab": {
          "base_uri": "https://localhost:8080/",
          "height": 265
        },
        "outputId": "df480d3a-4d41-412f-9398-2d8a799f1e19"
      },
      "source": [
        "plt.hist(data[\"points\"]);"
      ],
      "execution_count": 13,
      "outputs": [
        {
          "output_type": "display_data",
          "data": {
            "image/png": "[encoded data removed]",
            "text/plain": [
              "<Figure size 432x288 with 1 Axes>"
            ]
          },
          "metadata": {
            "tags": [],
            "needs_background": "light"
          }
        }
      ]
    },
    {
      "cell_type": "markdown",
      "metadata": {
        "id": "JVIlqwsBk7Xs",
        "colab_type": "text"
      },
      "source": [
        "## Null value treatment"
      ]
    },
    {
      "cell_type": "code",
      "metadata": {
        "id": "VzbzJL8Yk7Xu",
        "colab_type": "code",
        "colab": {
          "base_uri": "https://localhost:8080/",
          "height": 237
        },
        "outputId": "bdd5fe12-6ba6-4bca-9e45-4746212e656e"
      },
      "source": [
        "data.isna().sum()"
      ],
      "execution_count": 14,
      "outputs": [
        {
          "output_type": "execute_result",
          "data": {
            "text/plain": [
              "description        0\n",
              "designation    16936\n",
              "points             0\n",
              "price              0\n",
              "province           0\n",
              "region_1         274\n",
              "region_2        3885\n",
              "taster_name    15416\n",
              "title            904\n",
              "variety            0\n",
              "winery             0\n",
              "dtype: int64"
            ]
          },
          "metadata": {
            "tags": []
          },
          "execution_count": 14
        }
      ]
    },
    {
      "cell_type": "code",
      "metadata": {
        "scrolled": false,
        "id": "_05kCoebk7X4",
        "colab_type": "code",
        "colab": {
          "base_uri": "https://localhost:8080/",
          "height": 237
        },
        "outputId": "bd2e2412-e146-479c-95a4-86b882276375"
      },
      "source": [
        "round((data.isna().sum()/data.shape[0])*100, 0)"
      ],
      "execution_count": 15,
      "outputs": [
        {
          "output_type": "execute_result",
          "data": {
            "text/plain": [
              "description     0.0\n",
              "designation    34.0\n",
              "points          0.0\n",
              "price           0.0\n",
              "province        0.0\n",
              "region_1        1.0\n",
              "region_2        8.0\n",
              "taster_name    31.0\n",
              "title           2.0\n",
              "variety         0.0\n",
              "winery          0.0\n",
              "dtype: float64"
            ]
          },
          "metadata": {
            "tags": []
          },
          "execution_count": 15
        }
      ]
    },
    {
      "cell_type": "code",
      "metadata": {
        "id": "kXQSrhHck7X_",
        "colab_type": "code",
        "colab": {}
      },
      "source": [
        "# by looking at percent of data missing in each column, dropping rows with null region_1 and  values\n",
        "data = data[data[\"region_1\"].notna() & data[\"title\"].notna()]\n",
        "\n",
        "# treating rest of missing values as a new \"unknown\" category\n",
        "data = data.fillna(\"new_cat\")"
      ],
      "execution_count": 0,
      "outputs": []
    },
    {
      "cell_type": "markdown",
      "metadata": {
        "id": "64XMExurk7YJ",
        "colab_type": "text"
      },
      "source": [
        "## Sampling and shuffling data"
      ]
    },
    {
      "cell_type": "code",
      "metadata": {
        "id": "0YbxkHtIk7YM",
        "colab_type": "code",
        "colab": {
          "base_uri": "https://localhost:8080/",
          "height": 35
        },
        "outputId": "1dbff721-bb23-4ef8-d562-8a239ea45036"
      },
      "source": [
        "sample_data, a = tts(data, test_size=0.5, shuffle=False)\n",
        "sample_data.shape"
      ],
      "execution_count": 17,
      "outputs": [
        {
          "output_type": "execute_result",
          "data": {
            "text/plain": [
              "(24692, 11)"
            ]
          },
          "metadata": {
            "tags": []
          },
          "execution_count": 17
        }
      ]
    },
    {
      "cell_type": "code",
      "metadata": {
        "id": "jr0gW5Shk7YV",
        "colab_type": "code",
        "colab": {
          "base_uri": "https://localhost:8080/",
          "height": 35
        },
        "outputId": "592b9b95-6547-4de7-d892-78b1885b8195"
      },
      "source": [
        "data_shuff = sample_data.sample(frac=1, random_state=5).reset_index(drop=True)\n",
        "X = data_shuff.drop(target, axis = 1)\n",
        "y = data_shuff[target]\n",
        "\n",
        "xtrain, xtest, ytrain, ytest = tts(X, y, shuffle = False, test_size = 0.2)\n",
        "\n",
        "xtrain_non_text = xtrain.drop(text_feat, axis = 1)\n",
        "\n",
        "xtrain.shape"
      ],
      "execution_count": 18,
      "outputs": [
        {
          "output_type": "execute_result",
          "data": {
            "text/plain": [
              "(19753, 10)"
            ]
          },
          "metadata": {
            "tags": []
          },
          "execution_count": 18
        }
      ]
    },
    {
      "cell_type": "markdown",
      "metadata": {
        "id": "craxQIu6k7Ye",
        "colab_type": "text"
      },
      "source": [
        "## Baseline Model"
      ]
    },
    {
      "cell_type": "code",
      "metadata": {
        "scrolled": true,
        "id": "j_QBRBwGk7Yg",
        "colab_type": "code",
        "colab": {
          "base_uri": "https://localhost:8080/",
          "height": 35
        },
        "outputId": "9f73c3b4-4345-4790-eda5-0754ed347cc7"
      },
      "source": [
        "low_card_pipe = make_pipeline(\n",
        "    OneHotEncoder(handle_unknown = \"ignore\"),\n",
        ")\n",
        "\n",
        "high_card_pipe = make_pipeline(\n",
        "    TargetEncoder(handle_unknown = \"value\"),\n",
        "    SimpleImputer(strategy=\"median\"),\n",
        "    StandardScaler()\n",
        ")\n",
        "\n",
        "cont_pipe = make_pipeline(\n",
        "    SimpleImputer(strategy=\"median\"),\n",
        "    StandardScaler(),\n",
        ")\n",
        "\n",
        "preprocess = make_column_transformer(\n",
        "    (low_card_pipe, low_card_cat_feat),\n",
        "    (high_card_pipe, high_card_cat_feat),\n",
        "    (cont_pipe, cont_feat),\n",
        ")\n",
        "\n",
        "#pipeline\n",
        "pipe = make_pipeline(preprocess, Ridge())\n",
        "\n",
        "np.mean(cross_val_score(pipe, xtrain_non_text, ytrain, scoring = \"r2\", cv = 5))\n"
      ],
      "execution_count": 19,
      "outputs": [
        {
          "output_type": "execute_result",
          "data": {
            "text/plain": [
              "0.4023095268476976"
            ]
          },
          "metadata": {
            "tags": []
          },
          "execution_count": 19
        }
      ]
    },
    {
      "cell_type": "code",
      "metadata": {
        "id": "2HFWeOQXZxxO",
        "colab_type": "code",
        "colab": {
          "base_uri": "https://localhost:8080/",
          "height": 35
        },
        "outputId": "2d12947c-1e24-438b-c05e-7085180846fa"
      },
      "source": [
        "pipe.fit(xtrain_non_text,ytrain)\n",
        "xtest_non_text = xtest.drop(text_feat, axis = 1)\n",
        "pipe.score(xtest_non_text,ytest)"
      ],
      "execution_count": 20,
      "outputs": [
        {
          "output_type": "execute_result",
          "data": {
            "text/plain": [
              "0.4153437886510346"
            ]
          },
          "metadata": {
            "tags": []
          },
          "execution_count": 20
        }
      ]
    },
    {
      "cell_type": "markdown",
      "metadata": {
        "id": "bmoHJRB7k7Yo",
        "colab_type": "text"
      },
      "source": [
        "## Bag of Words"
      ]
    },
    {
      "cell_type": "code",
      "metadata": {
        "scrolled": true,
        "id": "rawF9vFek7Yp",
        "colab_type": "code",
        "colab": {
          "base_uri": "https://localhost:8080/",
          "height": 237
        },
        "outputId": "7686fad4-0da9-41ea-9b3d-f5efafce360d"
      },
      "source": [
        "xtrain[\"description\"]"
      ],
      "execution_count": 21,
      "outputs": [
        {
          "output_type": "execute_result",
          "data": {
            "text/plain": [
              "0        Tempting aromas like fresh-baked bread and rip...\n",
              "1        Thick, rich and ripe in vanilla, the American ...\n",
              "2        This barrel selection has long been Signorello...\n",
              "3        The alcohol is overwhelming here in an otherwi...\n",
              "4        Blended with 5% Sémillon, this crisp, tropical...\n",
              "                               ...                        \n",
              "19748    Exuberant and floral on the nose, this Rieslin...\n",
              "19749    Sun-ripened bramble and dried herbs lend a sav...\n",
              "19750    A quick sniff and you're converted to this coo...\n",
              "19751    Aromas of this medium-bodied, un-oaked wine su...\n",
              "19752    The dried tobacco, vanilla, green olive and co...\n",
              "Name: description, Length: 19753, dtype: object"
            ]
          },
          "metadata": {
            "tags": []
          },
          "execution_count": 21
        }
      ]
    },
    {
      "cell_type": "code",
      "metadata": {
        "id": "10AViJWvk7Yw",
        "colab_type": "code",
        "colab": {
          "base_uri": "https://localhost:8080/",
          "height": 35
        },
        "outputId": "dfe157b1-1e9b-4933-e186-16702c6915e1"
      },
      "source": [
        "c_vec = CountVectorizer(token_pattern=r'\\b\\w+\\b', stop_words=\"english\", min_df=10)\n",
        "desc = c_vec.fit_transform(xtrain[\"description\"])\n",
        "desc.shape"
      ],
      "execution_count": 22,
      "outputs": [
        {
          "output_type": "execute_result",
          "data": {
            "text/plain": [
              "(19753, 3619)"
            ]
          },
          "metadata": {
            "tags": []
          },
          "execution_count": 22
        }
      ]
    },
    {
      "cell_type": "code",
      "metadata": {
        "id": "ZALN8-GXk7ZB",
        "colab_type": "code",
        "colab": {
          "base_uri": "https://localhost:8080/",
          "height": 35
        },
        "outputId": "cccfdb13-ed04-4074-9e5b-10fb37feaf9a"
      },
      "source": [
        "pipe = make_pipeline(CountVectorizer(token_pattern=r'\\b\\w+\\b', stop_words=\"english\", min_df=20), Ridge())\n",
        "\n",
        "np.mean(cross_val_score(pipe, xtrain[\"description\"], ytrain, scoring = \"r2\", cv = 5))"
      ],
      "execution_count": 24,
      "outputs": [
        {
          "output_type": "execute_result",
          "data": {
            "text/plain": [
              "0.6208830798597"
            ]
          },
          "metadata": {
            "tags": []
          },
          "execution_count": 24
        }
      ]
    },
    {
      "cell_type": "markdown",
      "metadata": {
        "id": "kDLuVJRAk7ZM",
        "colab_type": "text"
      },
      "source": [
        "## tf-idf rescaling"
      ]
    },
    {
      "cell_type": "code",
      "metadata": {
        "id": "oC-xoXSwk7ZO",
        "colab_type": "code",
        "colab": {
          "base_uri": "https://localhost:8080/",
          "height": 35
        },
        "outputId": "1f1087da-5930-47c2-eb34-7cc107331249"
      },
      "source": [
        "pipe = make_pipeline(CountVectorizer(token_pattern=r'\\b\\w+\\b', stop_words=\"english\", min_df=20),\n",
        "                     TfidfTransformer(), Ridge())\n",
        "\n",
        "np.mean(cross_val_score(pipe, xtrain[\"description\"], ytrain, scoring = \"r2\", cv = 5))"
      ],
      "execution_count": 25,
      "outputs": [
        {
          "output_type": "execute_result",
          "data": {
            "text/plain": [
              "0.6395496410067186"
            ]
          },
          "metadata": {
            "tags": []
          },
          "execution_count": 25
        }
      ]
    },
    {
      "cell_type": "markdown",
      "metadata": {
        "id": "nYSiT4m9k7ZX",
        "colab_type": "text"
      },
      "source": [
        "## n-grams"
      ]
    },
    {
      "cell_type": "code",
      "metadata": {
        "id": "xXovNwa-k7ZZ",
        "colab_type": "code",
        "colab": {
          "base_uri": "https://localhost:8080/",
          "height": 35
        },
        "outputId": "272c4632-4493-461a-9cd9-85c5b767bdd2"
      },
      "source": [
        "pipe = make_pipeline(CountVectorizer(token_pattern=r'\\b\\w+\\b', stop_words=\"english\", min_df=20, ngram_range=(1,4)),\n",
        "                     TfidfTransformer(), Ridge())\n",
        "\n",
        "np.mean(cross_val_score(pipe, xtrain[\"description\"], ytrain, scoring = \"r2\", cv = 5))"
      ],
      "execution_count": 26,
      "outputs": [
        {
          "output_type": "execute_result",
          "data": {
            "text/plain": [
              "0.6408489032903972"
            ]
          },
          "metadata": {
            "tags": []
          },
          "execution_count": 26
        }
      ]
    },
    {
      "cell_type": "code",
      "metadata": {
        "id": "98b2rjIDk7Zg",
        "colab_type": "code",
        "colab": {
          "base_uri": "https://localhost:8080/",
          "height": 35
        },
        "outputId": "78617f9e-73cf-4b96-8a97-8a218b4a4ff9"
      },
      "source": [
        "pipe = make_pipeline(CountVectorizer(token_pattern=r'\\b\\w+\\b', stop_words=\"english\", min_df=20, ngram_range=(1,3)),\n",
        "                     TfidfTransformer(), Ridge())\n",
        "\n",
        "np.mean(cross_val_score(pipe, xtrain[\"description\"], ytrain, scoring = \"r2\", cv = 5))"
      ],
      "execution_count": 27,
      "outputs": [
        {
          "output_type": "execute_result",
          "data": {
            "text/plain": [
              "0.6408633223281142"
            ]
          },
          "metadata": {
            "tags": []
          },
          "execution_count": 27
        }
      ]
    },
    {
      "cell_type": "code",
      "metadata": {
        "id": "dGqz-nqlk7Zn",
        "colab_type": "code",
        "colab": {
          "base_uri": "https://localhost:8080/",
          "height": 35
        },
        "outputId": "ad99f4b9-4c12-4b0a-fa94-5e81e69f5330"
      },
      "source": [
        "pipe = make_pipeline(CountVectorizer(token_pattern=r'\\b\\w+\\b', stop_words=\"english\", min_df=20, ngram_range=(1,2)),\n",
        "                     TfidfTransformer(), Ridge())\n",
        "\n",
        "np.mean(cross_val_score(pipe, xtrain[\"description\"], ytrain, scoring = \"r2\", cv = 5))"
      ],
      "execution_count": 28,
      "outputs": [
        {
          "output_type": "execute_result",
          "data": {
            "text/plain": [
              "0.6410622296931809"
            ]
          },
          "metadata": {
            "tags": []
          },
          "execution_count": 28
        }
      ]
    },
    {
      "cell_type": "code",
      "metadata": {
        "id": "doWVwiUBk7Zu",
        "colab_type": "code",
        "colab": {
          "base_uri": "https://localhost:8080/",
          "height": 35
        },
        "outputId": "2bb25434-dec6-4baa-e5f0-4fe4a2a87591"
      },
      "source": [
        "pipe = make_pipeline(CountVectorizer(token_pattern=r'\\b\\w+\\b', stop_words=\"english\", min_df=20, ngram_range=(1,2)),\n",
        "                     Ridge())\n",
        "\n",
        "np.mean(cross_val_score(pipe, xtrain[\"description\"], ytrain, scoring = \"r2\", cv = 5))"
      ],
      "execution_count": 29,
      "outputs": [
        {
          "output_type": "execute_result",
          "data": {
            "text/plain": [
              "0.5993858240486029"
            ]
          },
          "metadata": {
            "tags": []
          },
          "execution_count": 29
        }
      ]
    },
    {
      "cell_type": "code",
      "metadata": {
        "id": "U79HOJ0ek7aA",
        "colab_type": "code",
        "colab": {
          "base_uri": "https://localhost:8080/",
          "height": 35
        },
        "outputId": "8756e070-dd9c-469a-a907-96255416b6db"
      },
      "source": [
        "pipe = make_pipeline(CountVectorizer(token_pattern=r'\\b\\w+\\b', stop_words=\"english\", min_df=20, ngram_range=(2,2)),\n",
        "                     Ridge())\n",
        "\n",
        "np.mean(cross_val_score(pipe, xtrain[\"description\"], ytrain, scoring = \"r2\", cv = 5))"
      ],
      "execution_count": 30,
      "outputs": [
        {
          "output_type": "execute_result",
          "data": {
            "text/plain": [
              "0.25940112746584665"
            ]
          },
          "metadata": {
            "tags": []
          },
          "execution_count": 30
        }
      ]
    },
    {
      "cell_type": "code",
      "metadata": {
        "id": "v7Ro1qCpk7aF",
        "colab_type": "code",
        "colab": {
          "base_uri": "https://localhost:8080/",
          "height": 35
        },
        "outputId": "49d84702-a6c0-4a6b-f5b1-45ed818804f3"
      },
      "source": [
        "pipe = make_pipeline(CountVectorizer(token_pattern=r'\\b\\w+\\b', stop_words=\"english\", min_df=20, ngram_range=(3,3)),\n",
        "                     Ridge())\n",
        "\n",
        "np.mean(cross_val_score(pipe, xtrain[\"description\"], ytrain, scoring = \"r2\", cv = 5))"
      ],
      "execution_count": 31,
      "outputs": [
        {
          "output_type": "execute_result",
          "data": {
            "text/plain": [
              "0.0292381364305359"
            ]
          },
          "metadata": {
            "tags": []
          },
          "execution_count": 31
        }
      ]
    },
    {
      "cell_type": "markdown",
      "metadata": {
        "id": "e84whNozk7aR",
        "colab_type": "text"
      },
      "source": [
        "## character n-grams"
      ]
    },
    {
      "cell_type": "code",
      "metadata": {
        "id": "1MwJfnUkk7aT",
        "colab_type": "code",
        "colab": {
          "base_uri": "https://localhost:8080/",
          "height": 35
        },
        "outputId": "2a48ac7c-18f5-40d8-9c4d-0c1c36857394"
      },
      "source": [
        "pipe = make_pipeline(CountVectorizer(token_pattern=r'\\b\\w+\\b', stop_words=\"english\", min_df=20,\n",
        "                                     ngram_range=(1,2), analyzer=\"char\"),TfidfTransformer(), Ridge())\n",
        "\n",
        "np.mean(cross_val_score(pipe, xtrain[\"description\"], ytrain, scoring = \"r2\", cv = 5))"
      ],
      "execution_count": 32,
      "outputs": [
        {
          "output_type": "execute_result",
          "data": {
            "text/plain": [
              "0.5422575645952726"
            ]
          },
          "metadata": {
            "tags": []
          },
          "execution_count": 32
        }
      ]
    },
    {
      "cell_type": "code",
      "metadata": {
        "id": "32YmqspHk7ab",
        "colab_type": "code",
        "colab": {
          "base_uri": "https://localhost:8080/",
          "height": 35
        },
        "outputId": "62af2bd2-8789-40f2-fdaf-bf7781568409"
      },
      "source": [
        "pipe = make_pipeline(CountVectorizer(token_pattern=r'\\b\\w+\\b', stop_words=\"english\", min_df=10,\n",
        "                                     ngram_range=(1,3), analyzer=\"char\"),TfidfTransformer(), Ridge())\n",
        "\n",
        "np.mean(cross_val_score(pipe, xtrain[\"description\"], ytrain, scoring = \"r2\", cv = 5))"
      ],
      "execution_count": 33,
      "outputs": [
        {
          "output_type": "execute_result",
          "data": {
            "text/plain": [
              "0.6561878461654749"
            ]
          },
          "metadata": {
            "tags": []
          },
          "execution_count": 33
        }
      ]
    },
    {
      "cell_type": "code",
      "metadata": {
        "id": "SF_Xvik7k7af",
        "colab_type": "code",
        "colab": {
          "base_uri": "https://localhost:8080/",
          "height": 35
        },
        "outputId": "9294aa76-c68e-4f4d-f7b3-cc0ed9bb7b99"
      },
      "source": [
        "pipe = make_pipeline(CountVectorizer(token_pattern=r'\\b\\w+\\b', stop_words=\"english\", min_df=30,\n",
        "                                     ngram_range=(1,3), analyzer=\"char\"),TfidfTransformer(), Ridge())\n",
        "\n",
        "np.mean(cross_val_score(pipe, xtrain[\"description\"], ytrain, scoring = \"r2\", cv = 5))"
      ],
      "execution_count": 34,
      "outputs": [
        {
          "output_type": "execute_result",
          "data": {
            "text/plain": [
              "0.6542910991452722"
            ]
          },
          "metadata": {
            "tags": []
          },
          "execution_count": 34
        }
      ]
    },
    {
      "cell_type": "markdown",
      "metadata": {
        "id": "Jor9MueJk7aj",
        "colab_type": "text"
      },
      "source": [
        "### Finally, using count vectorizer,  character (1-3)-grams, tf-idf to tune regularization parameter"
      ]
    },
    {
      "cell_type": "code",
      "metadata": {
        "id": "AYoVVkOCk7ak",
        "colab_type": "code",
        "colab": {
          "base_uri": "https://localhost:8080/",
          "height": 35
        },
        "outputId": "ce941eea-7fb5-4743-ba2e-527b0a3748c5"
      },
      "source": [
        "pipe = make_pipeline(CountVectorizer(token_pattern=r'\\b\\w+\\b', stop_words=\"english\", min_df=10,\n",
        "                                     ngram_range=(1,3), analyzer=\"char\"),TfidfTransformer(), Ridge(alpha=0.1))\n",
        "\n",
        "np.mean(cross_val_score(pipe, xtrain[\"description\"], ytrain, scoring = \"r2\", cv = 5))"
      ],
      "execution_count": 35,
      "outputs": [
        {
          "output_type": "execute_result",
          "data": {
            "text/plain": [
              "0.648060837045632"
            ]
          },
          "metadata": {
            "tags": []
          },
          "execution_count": 35
        }
      ]
    },
    {
      "cell_type": "code",
      "metadata": {
        "id": "oKSOxmWqk7aq",
        "colab_type": "code",
        "colab": {
          "base_uri": "https://localhost:8080/",
          "height": 35
        },
        "outputId": "4279d935-96ec-4834-bb33-917a65326040"
      },
      "source": [
        "pipe = make_pipeline(CountVectorizer(token_pattern=r'\\b\\w+\\b', stop_words=\"english\", min_df=10,\n",
        "                                     ngram_range=(1,3), analyzer=\"char\"),TfidfTransformer(), Ridge(alpha=10))\n",
        "\n",
        "np.mean(cross_val_score(pipe, xtrain[\"description\"], ytrain, scoring = \"r2\", cv = 5))"
      ],
      "execution_count": 36,
      "outputs": [
        {
          "output_type": "execute_result",
          "data": {
            "text/plain": [
              "0.5773407328157109"
            ]
          },
          "metadata": {
            "tags": []
          },
          "execution_count": 36
        }
      ]
    },
    {
      "cell_type": "markdown",
      "metadata": {
        "id": "Hv-5Ro-Fk7ax",
        "colab_type": "text"
      },
      "source": [
        "### Final linear model (ridge): \n",
        "count vectorizer (min_df=10),  character (1-3)-grams, tf-idf with regularization=1"
      ]
    },
    {
      "cell_type": "code",
      "metadata": {
        "id": "T42GBsB4k7az",
        "colab_type": "code",
        "colab": {}
      },
      "source": [
        "pipe = make_pipeline(CountVectorizer(token_pattern=r'\\b\\w+\\b', stop_words=\"english\", min_df=10,\n",
        "                                     ngram_range=(1,3), analyzer=\"char\"),TfidfTransformer(), Ridge())"
      ],
      "execution_count": 0,
      "outputs": []
    },
    {
      "cell_type": "code",
      "metadata": {
        "id": "Cvkco5SGk7a3",
        "colab_type": "code",
        "colab": {
          "base_uri": "https://localhost:8080/",
          "height": 35
        },
        "outputId": "4b936458-e0b4-457e-fe30-d22dd8490637"
      },
      "source": [
        "pipe.fit(xtrain['description'],ytrain)\n",
        "pipe.score(xtest['description'],ytest)"
      ],
      "execution_count": 38,
      "outputs": [
        {
          "output_type": "execute_result",
          "data": {
            "text/plain": [
              "0.6571514010392104"
            ]
          },
          "metadata": {
            "tags": []
          },
          "execution_count": 38
        }
      ]
    },
    {
      "cell_type": "markdown",
      "metadata": {
        "id": "UsRRtixhk7bA",
        "colab_type": "text"
      },
      "source": [
        "## Text + Non-text"
      ]
    },
    {
      "cell_type": "code",
      "metadata": {
        "id": "ONBG2_Jgk7bH",
        "colab_type": "code",
        "colab": {
          "base_uri": "https://localhost:8080/",
          "height": 550
        },
        "outputId": "2d003ca5-3d69-404c-d769-b3de0e872844"
      },
      "source": [
        "low_card_pipe = make_pipeline(\n",
        "    OneHotEncoder(handle_unknown = \"ignore\"),\n",
        ")\n",
        "\n",
        "high_card_pipe = make_pipeline(\n",
        "    TargetEncoder(handle_unknown = \"value\"),\n",
        "    SimpleImputer(strategy=\"median\"),\n",
        "    StandardScaler()\n",
        ")\n",
        "\n",
        "cont_pipe = make_pipeline(\n",
        "    SimpleImputer(strategy=\"median\"),\n",
        "    StandardScaler(),\n",
        ")\n",
        "\n",
        "text_pipe = make_pipeline(\n",
        "    CountVectorizer(token_pattern=r'\\b\\w+\\b', stop_words=\"english\", #min_df=10, max_df = 20000,\n",
        "                    ngram_range=(1,3), analyzer=\"char\"),\n",
        "    TfidfTransformer()\n",
        ")\n",
        "\n",
        "preprocess = make_column_transformer(\n",
        "    (low_card_pipe, low_card_cat_feat),\n",
        "    (high_card_pipe, high_card_cat_feat),\n",
        "    (cont_pipe, cont_feat),\n",
        "    (text_pipe, \"description\")\n",
        ")\n",
        "\n",
        "#pipeline\n",
        "pipe = make_pipeline(preprocess, Ridge())\n",
        "\n",
        "grid_pipe = GridSearchCV(pipe,param_grid={'ridge__alpha': [0.01,0.1,1]},)\n",
        "                         \n",
        "grid_pipe.fit(xtrain,ytrain)\n",
        "\n",
        "\n",
        "\n"
      ],
      "execution_count": 46,
      "outputs": [
        {
          "output_type": "execute_result",
          "data": {
            "text/plain": [
              "GridSearchCV(cv=None, error_score=nan,\n",
              "             estimator=Pipeline(memory=None,\n",
              "                                steps=[('columntransformer',\n",
              "                                        ColumnTransformer(n_jobs=None,\n",
              "                                                          remainder='drop',\n",
              "                                                          sparse_threshold=0.3,\n",
              "                                                          transformer_weights=None,\n",
              "                                                          transformers=[('pipeline-1',\n",
              "                                                                         Pipeline(memory=None,\n",
              "                                                                                  steps=[('onehotencoder',\n",
              "                                                                                          OneHotEncoder(categories='auto',\n",
              "                                                                                                        drop=None,\n",
              "                                                                                                        dtype=<class 'numpy.float64'>,\n",
              "                                                                                                        handle_unknown='i...\n",
              "                                                                                                           use_idf=True))],\n",
              "                                                                                  verbose=False),\n",
              "                                                                         'description')],\n",
              "                                                          verbose=False)),\n",
              "                                       ('ridge',\n",
              "                                        Ridge(alpha=1.0, copy_X=True,\n",
              "                                              fit_intercept=True, max_iter=None,\n",
              "                                              normalize=False,\n",
              "                                              random_state=None, solver='auto',\n",
              "                                              tol=0.001))],\n",
              "                                verbose=False),\n",
              "             iid='deprecated', n_jobs=None,\n",
              "             param_grid={'ridge__alpha': [0.01, 0.1, 1]},\n",
              "             pre_dispatch='2*n_jobs', refit=True, return_train_score=False,\n",
              "             scoring=None, verbose=0)"
            ]
          },
          "metadata": {
            "tags": []
          },
          "execution_count": 46
        }
      ]
    },
    {
      "cell_type": "markdown",
      "metadata": {
        "id": "a6MamGGedyHD",
        "colab_type": "text"
      },
      "source": [
        "### Hence, using a ridge regression model with alpha = 1 yields the best results after cross-validation grid search."
      ]
    },
    {
      "cell_type": "code",
      "metadata": {
        "id": "4-PlkCVMcspe",
        "colab_type": "code",
        "colab": {
          "base_uri": "https://localhost:8080/",
          "height": 35
        },
        "outputId": "a0c203b6-156a-4896-814b-f15f805702be"
      },
      "source": [
        "grid_pipe.best_params_"
      ],
      "execution_count": 47,
      "outputs": [
        {
          "output_type": "execute_result",
          "data": {
            "text/plain": [
              "{'ridge__alpha': 1}"
            ]
          },
          "metadata": {
            "tags": []
          },
          "execution_count": 47
        }
      ]
    },
    {
      "cell_type": "code",
      "metadata": {
        "id": "I9gSiAY_cy8A",
        "colab_type": "code",
        "colab": {
          "base_uri": "https://localhost:8080/",
          "height": 35
        },
        "outputId": "d73b54f4-9748-46e7-f14b-7ac0db5a652e"
      },
      "source": [
        "grid_pipe.score(xtest,ytest)"
      ],
      "execution_count": 49,
      "outputs": [
        {
          "output_type": "execute_result",
          "data": {
            "text/plain": [
              "0.7278046214230925"
            ]
          },
          "metadata": {
            "tags": []
          },
          "execution_count": 49
        }
      ]
    },
    {
      "cell_type": "markdown",
      "metadata": {
        "id": "8jftKXBqk7bL",
        "colab_type": "text"
      },
      "source": [
        "## R2 on test data using the 3 models:\n",
        "### Baseline: 0.415\n",
        "### (1,3) grams: 0.657\n",
        "### Text + Non text: 0.727"
      ]
    },
    {
      "cell_type": "markdown",
      "metadata": {
        "id": "5jQUMRPed500",
        "colab_type": "text"
      },
      "source": [
        "### Thus, we see that the model combining both text and non-text features performs best on the test data."
      ]
    }
  ]
}
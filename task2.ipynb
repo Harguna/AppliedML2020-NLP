{
  "nbformat": 4,
  "nbformat_minor": 0,
  "metadata": {
    "kernelspec": {
      "display_name": "Python 3",
      "language": "python",
      "name": "python3"
    },
    "language_info": {
      "codemirror_mode": {
        "name": "ipython",
        "version": 3
      },
      "file_extension": ".py",
      "mimetype": "text/x-python",
      "name": "python",
      "nbconvert_exporter": "python",
      "pygments_lexer": "ipython3",
      "version": "3.7.4"
    },
    "colab": {
      "name": "task2.ipynb",
      "provenance": []
    }
  },
  "cells": [
    {
      "cell_type": "markdown",
      "metadata": {
        "id": "eWmdfGTWe8wc",
        "colab_type": "text"
      },
      "source": [
        "## AML Homework 4 Task 2\n",
        "## UNI: hs3159 Name: Harguna Sood\n",
        "## UNI: sv2609 Name: Siddhanth Vinay "
      ]
    },
    {
      "cell_type": "code",
      "metadata": {
        "id": "xEP8FyQDC7dY",
        "colab_type": "code",
        "outputId": "09f01616-d5f3-4b4c-926f-a9b054600f25",
        "colab": {
          "base_uri": "https://localhost:8080/",
          "height": 886
        }
      },
      "source": [
        "!pip install category_encoders\n",
        "!python -m spacy download en_core_web_lg"
      ],
      "execution_count": 1,
      "outputs": [
        {
          "output_type": "stream",
          "text": [
            "Collecting category_encoders\n",
            "\u001b[?25l  Downloading https://files.pythonhosted.org/packages/a0/52/c54191ad3782de633ea3d6ee3bb2837bda0cf3bc97644bb6375cf14150a0/category_encoders-2.1.0-py2.py3-none-any.whl (100kB)\n",
            "\u001b[K     |████████████████████████████████| 102kB 2.4MB/s \n",
            "\u001b[?25hRequirement already satisfied: statsmodels>=0.6.1 in /usr/local/lib/python3.6/dist-packages (from category_encoders) (0.10.2)\n",
            "Requirement already satisfied: numpy>=1.11.3 in /usr/local/lib/python3.6/dist-packages (from category_encoders) (1.18.2)\n",
            "Requirement already satisfied: patsy>=0.4.1 in /usr/local/lib/python3.6/dist-packages (from category_encoders) (0.5.1)\n",
            "Requirement already satisfied: pandas>=0.21.1 in /usr/local/lib/python3.6/dist-packages (from category_encoders) (1.0.3)\n",
            "Requirement already satisfied: scipy>=0.19.0 in /usr/local/lib/python3.6/dist-packages (from category_encoders) (1.4.1)\n",
            "Requirement already satisfied: scikit-learn>=0.20.0 in /usr/local/lib/python3.6/dist-packages (from category_encoders) (0.22.2.post1)\n",
            "Requirement already satisfied: six in /usr/local/lib/python3.6/dist-packages (from patsy>=0.4.1->category_encoders) (1.12.0)\n",
            "Requirement already satisfied: pytz>=2017.2 in /usr/local/lib/python3.6/dist-packages (from pandas>=0.21.1->category_encoders) (2018.9)\n",
            "Requirement already satisfied: python-dateutil>=2.6.1 in /usr/local/lib/python3.6/dist-packages (from pandas>=0.21.1->category_encoders) (2.8.1)\n",
            "Requirement already satisfied: joblib>=0.11 in /usr/local/lib/python3.6/dist-packages (from scikit-learn>=0.20.0->category_encoders) (0.14.1)\n",
            "Installing collected packages: category-encoders\n",
            "Successfully installed category-encoders-2.1.0\n",
            "Collecting en_core_web_lg==2.2.5\n",
            "\u001b[?25l  Downloading https://github.com/explosion/spacy-models/releases/download/en_core_web_lg-2.2.5/en_core_web_lg-2.2.5.tar.gz (827.9MB)\n",
            "\u001b[K     |████████████████████████████████| 827.9MB 1.2MB/s \n",
            "\u001b[?25hRequirement already satisfied: spacy>=2.2.2 in /usr/local/lib/python3.6/dist-packages (from en_core_web_lg==2.2.5) (2.2.4)\n",
            "Requirement already satisfied: thinc==7.4.0 in /usr/local/lib/python3.6/dist-packages (from spacy>=2.2.2->en_core_web_lg==2.2.5) (7.4.0)\n",
            "Requirement already satisfied: wasabi<1.1.0,>=0.4.0 in /usr/local/lib/python3.6/dist-packages (from spacy>=2.2.2->en_core_web_lg==2.2.5) (0.6.0)\n",
            "Requirement already satisfied: srsly<1.1.0,>=1.0.2 in /usr/local/lib/python3.6/dist-packages (from spacy>=2.2.2->en_core_web_lg==2.2.5) (1.0.2)\n",
            "Requirement already satisfied: setuptools in /usr/local/lib/python3.6/dist-packages (from spacy>=2.2.2->en_core_web_lg==2.2.5) (46.1.3)\n",
            "Requirement already satisfied: requests<3.0.0,>=2.13.0 in /usr/local/lib/python3.6/dist-packages (from spacy>=2.2.2->en_core_web_lg==2.2.5) (2.21.0)\n",
            "Requirement already satisfied: preshed<3.1.0,>=3.0.2 in /usr/local/lib/python3.6/dist-packages (from spacy>=2.2.2->en_core_web_lg==2.2.5) (3.0.2)\n",
            "Requirement already satisfied: catalogue<1.1.0,>=0.0.7 in /usr/local/lib/python3.6/dist-packages (from spacy>=2.2.2->en_core_web_lg==2.2.5) (1.0.0)\n",
            "Requirement already satisfied: murmurhash<1.1.0,>=0.28.0 in /usr/local/lib/python3.6/dist-packages (from spacy>=2.2.2->en_core_web_lg==2.2.5) (1.0.2)\n",
            "Requirement already satisfied: cymem<2.1.0,>=2.0.2 in /usr/local/lib/python3.6/dist-packages (from spacy>=2.2.2->en_core_web_lg==2.2.5) (2.0.3)\n",
            "Requirement already satisfied: plac<1.2.0,>=0.9.6 in /usr/local/lib/python3.6/dist-packages (from spacy>=2.2.2->en_core_web_lg==2.2.5) (1.1.3)\n",
            "Requirement already satisfied: tqdm<5.0.0,>=4.38.0 in /usr/local/lib/python3.6/dist-packages (from spacy>=2.2.2->en_core_web_lg==2.2.5) (4.38.0)\n",
            "Requirement already satisfied: blis<0.5.0,>=0.4.0 in /usr/local/lib/python3.6/dist-packages (from spacy>=2.2.2->en_core_web_lg==2.2.5) (0.4.1)\n",
            "Requirement already satisfied: numpy>=1.15.0 in /usr/local/lib/python3.6/dist-packages (from spacy>=2.2.2->en_core_web_lg==2.2.5) (1.18.2)\n",
            "Requirement already satisfied: certifi>=2017.4.17 in /usr/local/lib/python3.6/dist-packages (from requests<3.0.0,>=2.13.0->spacy>=2.2.2->en_core_web_lg==2.2.5) (2020.4.5.1)\n",
            "Requirement already satisfied: urllib3<1.25,>=1.21.1 in /usr/local/lib/python3.6/dist-packages (from requests<3.0.0,>=2.13.0->spacy>=2.2.2->en_core_web_lg==2.2.5) (1.24.3)\n",
            "Requirement already satisfied: chardet<3.1.0,>=3.0.2 in /usr/local/lib/python3.6/dist-packages (from requests<3.0.0,>=2.13.0->spacy>=2.2.2->en_core_web_lg==2.2.5) (3.0.4)\n",
            "Requirement already satisfied: idna<2.9,>=2.5 in /usr/local/lib/python3.6/dist-packages (from requests<3.0.0,>=2.13.0->spacy>=2.2.2->en_core_web_lg==2.2.5) (2.8)\n",
            "Requirement already satisfied: importlib-metadata>=0.20; python_version < \"3.8\" in /usr/local/lib/python3.6/dist-packages (from catalogue<1.1.0,>=0.0.7->spacy>=2.2.2->en_core_web_lg==2.2.5) (1.6.0)\n",
            "Requirement already satisfied: zipp>=0.5 in /usr/local/lib/python3.6/dist-packages (from importlib-metadata>=0.20; python_version < \"3.8\"->catalogue<1.1.0,>=0.0.7->spacy>=2.2.2->en_core_web_lg==2.2.5) (3.1.0)\n",
            "Building wheels for collected packages: en-core-web-lg\n",
            "  Building wheel for en-core-web-lg (setup.py) ... \u001b[?25l\u001b[?25hdone\n",
            "  Created wheel for en-core-web-lg: filename=en_core_web_lg-2.2.5-cp36-none-any.whl size=829180944 sha256=7af04540a03f32a388adf1b50c5258ff72f602c9193419f2eb76fc35bad2447e\n",
            "  Stored in directory: /tmp/pip-ephem-wheel-cache-5qw8dpth/wheels/2a/c1/a6/fc7a877b1efca9bc6a089d6f506f16d3868408f9ff89f8dbfc\n",
            "Successfully built en-core-web-lg\n",
            "Installing collected packages: en-core-web-lg\n",
            "Successfully installed en-core-web-lg-2.2.5\n",
            "\u001b[38;5;2m✔ Download and installation successful\u001b[0m\n",
            "You can now load the model via spacy.load('en_core_web_lg')\n"
          ],
          "name": "stdout"
        }
      ]
    },
    {
      "cell_type": "code",
      "metadata": {
        "id": "NdR1dmSCk7VY",
        "colab_type": "code",
        "colab": {}
      },
      "source": [
        "import pandas as pd\n",
        "import matplotlib.pyplot as plt\n",
        "from sklearn.compose import make_column_transformer\n",
        "from sklearn.ensemble import  GradientBoostingRegressor\n",
        "from sklearn.pipeline import  make_pipeline\n",
        "from sklearn.model_selection import cross_val_score\n",
        "from sklearn.preprocessing import OneHotEncoder \n",
        "from category_encoders.target_encoder import TargetEncoder\n",
        "import numpy as np\n",
        "from sklearn.impute import SimpleImputer\n",
        "from sklearn.linear_model import Ridge\n",
        "from sklearn.preprocessing import StandardScaler\n",
        "from sklearn.model_selection import train_test_split as tts\n",
        "from sklearn.feature_extraction.text import CountVectorizer , TfidfTransformer\n",
        "import spacy\n",
        "from sklearn.model_selection import GridSearchCV"
      ],
      "execution_count": 0,
      "outputs": []
    },
    {
      "cell_type": "code",
      "metadata": {
        "id": "8XV9etFUC6ww",
        "colab_type": "code",
        "outputId": "5f3c7307-40d2-4432-99a6-911a22c85ea3",
        "colab": {
          "base_uri": "https://localhost:8080/",
          "height": 35
        }
      },
      "source": [
        "from google.colab import drive\n",
        "drive.mount('/content/gdrive')"
      ],
      "execution_count": 2,
      "outputs": [
        {
          "output_type": "stream",
          "text": [
            "Drive already mounted at /content/gdrive; to attempt to forcibly remount, call drive.mount(\"/content/gdrive\", force_remount=True).\n"
          ],
          "name": "stdout"
        }
      ]
    },
    {
      "cell_type": "code",
      "metadata": {
        "id": "pVxnfupkk7Vs",
        "colab_type": "code",
        "colab": {}
      },
      "source": [
        "data = pd.read_csv(\"/content/gdrive/My Drive/winemag-data-130k-v2.csv\")"
      ],
      "execution_count": 0,
      "outputs": []
    },
    {
      "cell_type": "markdown",
      "metadata": {
        "id": "HNrdjqjHk7V-",
        "colab_type": "text"
      },
      "source": [
        "#### Using data for US"
      ]
    },
    {
      "cell_type": "code",
      "metadata": {
        "id": "2Buu3sj_k7WA",
        "colab_type": "code",
        "colab": {}
      },
      "source": [
        "data = data.drop([\"Unnamed: 0\"], axis = 1)\n",
        "data = data[data[\"country\"] == \"US\"].reset_index(drop=True)\n",
        "data = data.drop([\"country\"], axis = 1)"
      ],
      "execution_count": 0,
      "outputs": []
    },
    {
      "cell_type": "code",
      "metadata": {
        "scrolled": true,
        "id": "uekjECnzk7WM",
        "colab_type": "code",
        "outputId": "d28d020b-5f3d-4642-d156-049f8c369d2f",
        "colab": {
          "base_uri": "https://localhost:8080/",
          "height": 293
        }
      },
      "source": [
        "data.head()"
      ],
      "execution_count": 5,
      "outputs": [
        {
          "output_type": "execute_result",
          "data": {
            "text/html": [
              "<div>\n",
              "<style scoped>\n",
              "    .dataframe tbody tr th:only-of-type {\n",
              "        vertical-align: middle;\n",
              "    }\n",
              "\n",
              "    .dataframe tbody tr th {\n",
              "        vertical-align: top;\n",
              "    }\n",
              "\n",
              "    .dataframe thead th {\n",
              "        text-align: right;\n",
              "    }\n",
              "</style>\n",
              "<table border=\"1\" class=\"dataframe\">\n",
              "  <thead>\n",
              "    <tr style=\"text-align: right;\">\n",
              "      <th></th>\n",
              "      <th>description</th>\n",
              "      <th>designation</th>\n",
              "      <th>points</th>\n",
              "      <th>price</th>\n",
              "      <th>province</th>\n",
              "      <th>region_1</th>\n",
              "      <th>region_2</th>\n",
              "      <th>taster_name</th>\n",
              "      <th>taster_twitter_handle</th>\n",
              "      <th>title</th>\n",
              "      <th>variety</th>\n",
              "      <th>winery</th>\n",
              "    </tr>\n",
              "  </thead>\n",
              "  <tbody>\n",
              "    <tr>\n",
              "      <th>0</th>\n",
              "      <td>Tart and snappy, the flavors of lime flesh and...</td>\n",
              "      <td>NaN</td>\n",
              "      <td>87</td>\n",
              "      <td>14.0</td>\n",
              "      <td>Oregon</td>\n",
              "      <td>Willamette Valley</td>\n",
              "      <td>Willamette Valley</td>\n",
              "      <td>Paul Gregutt</td>\n",
              "      <td>@paulgwine</td>\n",
              "      <td>Rainstorm 2013 Pinot Gris (Willamette Valley)</td>\n",
              "      <td>Pinot Gris</td>\n",
              "      <td>Rainstorm</td>\n",
              "    </tr>\n",
              "    <tr>\n",
              "      <th>1</th>\n",
              "      <td>Pineapple rind, lemon pith and orange blossom ...</td>\n",
              "      <td>Reserve Late Harvest</td>\n",
              "      <td>87</td>\n",
              "      <td>13.0</td>\n",
              "      <td>Michigan</td>\n",
              "      <td>Lake Michigan Shore</td>\n",
              "      <td>NaN</td>\n",
              "      <td>Alexander Peartree</td>\n",
              "      <td>NaN</td>\n",
              "      <td>St. Julian 2013 Reserve Late Harvest Riesling ...</td>\n",
              "      <td>Riesling</td>\n",
              "      <td>St. Julian</td>\n",
              "    </tr>\n",
              "    <tr>\n",
              "      <th>2</th>\n",
              "      <td>Much like the regular bottling from 2012, this...</td>\n",
              "      <td>Vintner's Reserve Wild Child Block</td>\n",
              "      <td>87</td>\n",
              "      <td>65.0</td>\n",
              "      <td>Oregon</td>\n",
              "      <td>Willamette Valley</td>\n",
              "      <td>Willamette Valley</td>\n",
              "      <td>Paul Gregutt</td>\n",
              "      <td>@paulgwine</td>\n",
              "      <td>Sweet Cheeks 2012 Vintner's Reserve Wild Child...</td>\n",
              "      <td>Pinot Noir</td>\n",
              "      <td>Sweet Cheeks</td>\n",
              "    </tr>\n",
              "    <tr>\n",
              "      <th>3</th>\n",
              "      <td>Soft, supple plum envelopes an oaky structure ...</td>\n",
              "      <td>Mountain Cuvée</td>\n",
              "      <td>87</td>\n",
              "      <td>19.0</td>\n",
              "      <td>California</td>\n",
              "      <td>Napa Valley</td>\n",
              "      <td>Napa</td>\n",
              "      <td>Virginie Boone</td>\n",
              "      <td>@vboone</td>\n",
              "      <td>Kirkland Signature 2011 Mountain Cuvée Caberne...</td>\n",
              "      <td>Cabernet Sauvignon</td>\n",
              "      <td>Kirkland Signature</td>\n",
              "    </tr>\n",
              "    <tr>\n",
              "      <th>4</th>\n",
              "      <td>Slightly reduced, this wine offers a chalky, t...</td>\n",
              "      <td>NaN</td>\n",
              "      <td>87</td>\n",
              "      <td>34.0</td>\n",
              "      <td>California</td>\n",
              "      <td>Alexander Valley</td>\n",
              "      <td>Sonoma</td>\n",
              "      <td>Virginie Boone</td>\n",
              "      <td>@vboone</td>\n",
              "      <td>Louis M. Martini 2012 Cabernet Sauvignon (Alex...</td>\n",
              "      <td>Cabernet Sauvignon</td>\n",
              "      <td>Louis M. Martini</td>\n",
              "    </tr>\n",
              "  </tbody>\n",
              "</table>\n",
              "</div>"
            ],
            "text/plain": [
              "                                         description  ...              winery\n",
              "0  Tart and snappy, the flavors of lime flesh and...  ...           Rainstorm\n",
              "1  Pineapple rind, lemon pith and orange blossom ...  ...          St. Julian\n",
              "2  Much like the regular bottling from 2012, this...  ...        Sweet Cheeks\n",
              "3  Soft, supple plum envelopes an oaky structure ...  ...  Kirkland Signature\n",
              "4  Slightly reduced, this wine offers a chalky, t...  ...    Louis M. Martini\n",
              "\n",
              "[5 rows x 12 columns]"
            ]
          },
          "metadata": {
            "tags": []
          },
          "execution_count": 5
        }
      ]
    },
    {
      "cell_type": "markdown",
      "metadata": {
        "id": "eydydJ7Mk7WZ",
        "colab_type": "text"
      },
      "source": [
        "#### Extracting year from title"
      ]
    },
    {
      "cell_type": "code",
      "metadata": {
        "id": "icVV5AFGk7Wb",
        "colab_type": "code",
        "colab": {}
      },
      "source": [
        "data[\"title\"] = data[\"title\"].str.extract(r'(\\d{4})')"
      ],
      "execution_count": 0,
      "outputs": []
    },
    {
      "cell_type": "markdown",
      "metadata": {
        "id": "NY1eL3GNk7Wn",
        "colab_type": "text"
      },
      "source": [
        "#### Using taster_name instead of taster_Twitter_handle as both will roughy give the same results, but taster_twitter_handle has more null values."
      ]
    },
    {
      "cell_type": "code",
      "metadata": {
        "id": "eMTaVHn-k7Wp",
        "colab_type": "code",
        "colab": {}
      },
      "source": [
        "data = data.drop([\"taster_twitter_handle\"], axis = 1)"
      ],
      "execution_count": 0,
      "outputs": []
    },
    {
      "cell_type": "code",
      "metadata": {
        "id": "T2ePKJH3k7W0",
        "colab_type": "code",
        "colab": {}
      },
      "source": [
        "text_feat = [\"description\"] # can get year from title\n",
        "low_card_cat_feat = [\"region_2\", \"taster_name\"]  # one hot encoding \n",
        "high_card_cat_feat = [\"designation\", \"province\", \"region_1\", \"winery\", \"variety\"] # target encoding\n",
        "cont_feat = [\"price\", \"title\"]\n",
        "target = [\"points\"]"
      ],
      "execution_count": 0,
      "outputs": []
    },
    {
      "cell_type": "markdown",
      "metadata": {
        "id": "W4-I7mhWk7W8",
        "colab_type": "text"
      },
      "source": [
        "## Removing outliers "
      ]
    },
    {
      "cell_type": "code",
      "metadata": {
        "id": "X5QzWD7Hk7W-",
        "colab_type": "code",
        "outputId": "4a18ce77-f46e-4e76-b00b-1e47e4b10683",
        "colab": {
          "base_uri": "https://localhost:8080/",
          "height": 343
        }
      },
      "source": [
        "fig, ax = plt.subplots(1,5, figsize=(20, 4));\n",
        "ax[0].hist(data[\"price\"]);\n",
        "ax[1].hist(data[data[\"price\"]<=500][\"price\"]);\n",
        "ax[2].hist(data[data[\"price\"]<=250][\"price\"]);\n",
        "ax[3].hist(data[data[\"price\"]<=100][\"price\"]);\n",
        "ax[4].hist(data[data[\"price\"]<=70][\"price\"]);"
      ],
      "execution_count": 9,
      "outputs": [
        {
          "output_type": "stream",
          "text": [
            "/usr/local/lib/python3.6/dist-packages/numpy/lib/histograms.py:839: RuntimeWarning: invalid value encountered in greater_equal\n",
            "  keep = (tmp_a >= first_edge)\n",
            "/usr/local/lib/python3.6/dist-packages/numpy/lib/histograms.py:840: RuntimeWarning: invalid value encountered in less_equal\n",
            "  keep &= (tmp_a <= last_edge)\n"
          ],
          "name": "stderr"
        },
        {
          "output_type": "display_data",
          "data": {
            "image/png": "[encoded data removed]",
            "text/plain": [
              "<Figure size 1440x288 with 5 Axes>"
            ]
          },
          "metadata": {
            "tags": [],
            "needs_background": "light"
          }
        }
      ]
    },
    {
      "cell_type": "code",
      "metadata": {
        "id": "n5c8WX6Sk7XJ",
        "colab_type": "code",
        "outputId": "47abc4a9-d348-4728-9928-92befb7b9f7d",
        "colab": {
          "base_uri": "https://localhost:8080/",
          "height": 35
        }
      },
      "source": [
        "data.shape"
      ],
      "execution_count": 10,
      "outputs": [
        {
          "output_type": "execute_result",
          "data": {
            "text/plain": [
              "(54504, 11)"
            ]
          },
          "metadata": {
            "tags": []
          },
          "execution_count": 10
        }
      ]
    },
    {
      "cell_type": "code",
      "metadata": {
        "id": "Fpy9yL5Pk7XT",
        "colab_type": "code",
        "outputId": "dd2b1bcc-70bf-4c21-e40f-18946258dd2e",
        "colab": {
          "base_uri": "https://localhost:8080/",
          "height": 35
        }
      },
      "source": [
        "data = data[data[\"price\"] <= 70]\n",
        "data.shape"
      ],
      "execution_count": 11,
      "outputs": [
        {
          "output_type": "execute_result",
          "data": {
            "text/plain": [
              "(50521, 11)"
            ]
          },
          "metadata": {
            "tags": []
          },
          "execution_count": 11
        }
      ]
    },
    {
      "cell_type": "code",
      "metadata": {
        "scrolled": true,
        "id": "ivdOONIVk7Xg",
        "colab_type": "code",
        "outputId": "e274b71b-fef9-4a67-ff50-e9c238a593f8",
        "colab": {
          "base_uri": "https://localhost:8080/",
          "height": 265
        }
      },
      "source": [
        "plt.hist(data[\"points\"]);"
      ],
      "execution_count": 12,
      "outputs": [
        {
          "output_type": "display_data",
          "data": {
            "image/png": "[encoded data removed]",
            "text/plain": [
              "<Figure size 432x288 with 1 Axes>"
            ]
          },
          "metadata": {
            "tags": [],
            "needs_background": "light"
          }
        }
      ]
    },
    {
      "cell_type": "markdown",
      "metadata": {
        "id": "JVIlqwsBk7Xs",
        "colab_type": "text"
      },
      "source": [
        "## Null value treatment"
      ]
    },
    {
      "cell_type": "code",
      "metadata": {
        "id": "VzbzJL8Yk7Xu",
        "colab_type": "code",
        "outputId": "97a1a7de-c504-4549-d9fa-3316265d8b49",
        "colab": {
          "base_uri": "https://localhost:8080/",
          "height": 239
        }
      },
      "source": [
        "data.isna().sum()"
      ],
      "execution_count": 13,
      "outputs": [
        {
          "output_type": "execute_result",
          "data": {
            "text/plain": [
              "description        0\n",
              "designation    16936\n",
              "points             0\n",
              "price              0\n",
              "province           0\n",
              "region_1         274\n",
              "region_2        3885\n",
              "taster_name    15416\n",
              "title            904\n",
              "variety            0\n",
              "winery             0\n",
              "dtype: int64"
            ]
          },
          "metadata": {
            "tags": []
          },
          "execution_count": 13
        }
      ]
    },
    {
      "cell_type": "code",
      "metadata": {
        "scrolled": false,
        "id": "_05kCoebk7X4",
        "colab_type": "code",
        "outputId": "d708c66c-e543-4905-a54a-30e322602289",
        "colab": {
          "base_uri": "https://localhost:8080/",
          "height": 239
        }
      },
      "source": [
        "round((data.isna().sum()/data.shape[0])*100, 0)"
      ],
      "execution_count": 14,
      "outputs": [
        {
          "output_type": "execute_result",
          "data": {
            "text/plain": [
              "description     0.0\n",
              "designation    34.0\n",
              "points          0.0\n",
              "price           0.0\n",
              "province        0.0\n",
              "region_1        1.0\n",
              "region_2        8.0\n",
              "taster_name    31.0\n",
              "title           2.0\n",
              "variety         0.0\n",
              "winery          0.0\n",
              "dtype: float64"
            ]
          },
          "metadata": {
            "tags": []
          },
          "execution_count": 14
        }
      ]
    },
    {
      "cell_type": "code",
      "metadata": {
        "id": "kXQSrhHck7X_",
        "colab_type": "code",
        "colab": {}
      },
      "source": [
        "# by looking at percent of data missing in each column, dropping rows with null region_1 and  values\n",
        "data = data[data[\"region_1\"].notna() & data[\"title\"].notna()]\n",
        "\n",
        "# treating rest of missing values as a new \"unknown\" category\n",
        "data = data.fillna(\"new_cat\")"
      ],
      "execution_count": 0,
      "outputs": []
    },
    {
      "cell_type": "markdown",
      "metadata": {
        "id": "64XMExurk7YJ",
        "colab_type": "text"
      },
      "source": [
        "## Sampling and shuffling data"
      ]
    },
    {
      "cell_type": "code",
      "metadata": {
        "id": "0YbxkHtIk7YM",
        "colab_type": "code",
        "outputId": "b61e5089-d09e-4dff-a8c1-32cdcecb905c",
        "colab": {
          "base_uri": "https://localhost:8080/",
          "height": 35
        }
      },
      "source": [
        "sample_data, a = tts(data, test_size=0.5, shuffle=False)\n",
        "sample_data.shape"
      ],
      "execution_count": 16,
      "outputs": [
        {
          "output_type": "execute_result",
          "data": {
            "text/plain": [
              "(24692, 11)"
            ]
          },
          "metadata": {
            "tags": []
          },
          "execution_count": 16
        }
      ]
    },
    {
      "cell_type": "code",
      "metadata": {
        "id": "jr0gW5Shk7YV",
        "colab_type": "code",
        "outputId": "37e14ef4-a51e-424e-fec6-cd8c9647e89a",
        "colab": {
          "base_uri": "https://localhost:8080/",
          "height": 35
        }
      },
      "source": [
        "data_shuff = sample_data.sample(frac=1, random_state=5).reset_index(drop=True)\n",
        "X = data_shuff.drop(target, axis = 1)\n",
        "y = data_shuff[target]\n",
        "\n",
        "xtrain, xtest, ytrain, ytest = tts(X, y, shuffle = False, test_size = 0.2)\n",
        "\n",
        "xtrain_non_text = xtrain.drop(text_feat, axis = 1)\n",
        "\n",
        "xtrain.shape"
      ],
      "execution_count": 17,
      "outputs": [
        {
          "output_type": "execute_result",
          "data": {
            "text/plain": [
              "(19753, 10)"
            ]
          },
          "metadata": {
            "tags": []
          },
          "execution_count": 17
        }
      ]
    },
    {
      "cell_type": "code",
      "metadata": {
        "id": "SpTZFr7SENym",
        "colab_type": "code",
        "outputId": "ca626b17-770d-4a66-8b4f-4e5e22f36eb0",
        "colab": {
          "base_uri": "https://localhost:8080/",
          "height": 206
        }
      },
      "source": [
        "xtrain.head()"
      ],
      "execution_count": 18,
      "outputs": [
        {
          "output_type": "execute_result",
          "data": {
            "text/html": [
              "<div>\n",
              "<style scoped>\n",
              "    .dataframe tbody tr th:only-of-type {\n",
              "        vertical-align: middle;\n",
              "    }\n",
              "\n",
              "    .dataframe tbody tr th {\n",
              "        vertical-align: top;\n",
              "    }\n",
              "\n",
              "    .dataframe thead th {\n",
              "        text-align: right;\n",
              "    }\n",
              "</style>\n",
              "<table border=\"1\" class=\"dataframe\">\n",
              "  <thead>\n",
              "    <tr style=\"text-align: right;\">\n",
              "      <th></th>\n",
              "      <th>description</th>\n",
              "      <th>designation</th>\n",
              "      <th>price</th>\n",
              "      <th>province</th>\n",
              "      <th>region_1</th>\n",
              "      <th>region_2</th>\n",
              "      <th>taster_name</th>\n",
              "      <th>title</th>\n",
              "      <th>variety</th>\n",
              "      <th>winery</th>\n",
              "    </tr>\n",
              "  </thead>\n",
              "  <tbody>\n",
              "    <tr>\n",
              "      <th>0</th>\n",
              "      <td>Tempting aromas like fresh-baked bread and rip...</td>\n",
              "      <td>new_cat</td>\n",
              "      <td>22.0</td>\n",
              "      <td>California</td>\n",
              "      <td>North Coast</td>\n",
              "      <td>North Coast</td>\n",
              "      <td>Jim Gordon</td>\n",
              "      <td>2014</td>\n",
              "      <td>Chardonnay</td>\n",
              "      <td>La Follette</td>\n",
              "    </tr>\n",
              "    <tr>\n",
              "      <th>1</th>\n",
              "      <td>Thick, rich and ripe in vanilla, the American ...</td>\n",
              "      <td>Barrel Select American Oak Reserve</td>\n",
              "      <td>34.0</td>\n",
              "      <td>California</td>\n",
              "      <td>Carneros</td>\n",
              "      <td>Napa-Sonoma</td>\n",
              "      <td>Virginie Boone</td>\n",
              "      <td>2013</td>\n",
              "      <td>Chardonnay</td>\n",
              "      <td>Roche</td>\n",
              "    </tr>\n",
              "    <tr>\n",
              "      <th>2</th>\n",
              "      <td>This barrel selection has long been Signorello...</td>\n",
              "      <td>Hope's Cuvee</td>\n",
              "      <td>65.0</td>\n",
              "      <td>California</td>\n",
              "      <td>Napa Valley</td>\n",
              "      <td>Napa</td>\n",
              "      <td>new_cat</td>\n",
              "      <td>2009</td>\n",
              "      <td>Chardonnay</td>\n",
              "      <td>Signorello</td>\n",
              "    </tr>\n",
              "    <tr>\n",
              "      <th>3</th>\n",
              "      <td>The alcohol is overwhelming here in an otherwi...</td>\n",
              "      <td>new_cat</td>\n",
              "      <td>32.0</td>\n",
              "      <td>California</td>\n",
              "      <td>Livermore Valley</td>\n",
              "      <td>Central Coast</td>\n",
              "      <td>Virginie Boone</td>\n",
              "      <td>2009</td>\n",
              "      <td>Petit Verdot</td>\n",
              "      <td>Cuda Ridge Wines</td>\n",
              "    </tr>\n",
              "    <tr>\n",
              "      <th>4</th>\n",
              "      <td>Blended with 5% Sémillon, this crisp, tropical...</td>\n",
              "      <td>new_cat</td>\n",
              "      <td>28.0</td>\n",
              "      <td>California</td>\n",
              "      <td>Napa Valley</td>\n",
              "      <td>Napa</td>\n",
              "      <td>Virginie Boone</td>\n",
              "      <td>2015</td>\n",
              "      <td>Sauvignon Blanc</td>\n",
              "      <td>Merryvale</td>\n",
              "    </tr>\n",
              "  </tbody>\n",
              "</table>\n",
              "</div>"
            ],
            "text/plain": [
              "                                         description  ...            winery\n",
              "0  Tempting aromas like fresh-baked bread and rip...  ...       La Follette\n",
              "1  Thick, rich and ripe in vanilla, the American ...  ...             Roche\n",
              "2  This barrel selection has long been Signorello...  ...        Signorello\n",
              "3  The alcohol is overwhelming here in an otherwi...  ...  Cuda Ridge Wines\n",
              "4  Blended with 5% Sémillon, this crisp, tropical...  ...         Merryvale\n",
              "\n",
              "[5 rows x 10 columns]"
            ]
          },
          "metadata": {
            "tags": []
          },
          "execution_count": 18
        }
      ]
    },
    {
      "cell_type": "markdown",
      "metadata": {
        "id": "p9kpBvhzEEdD",
        "colab_type": "text"
      },
      "source": [
        "## 2.1"
      ]
    },
    {
      "cell_type": "code",
      "metadata": {
        "id": "hdVWpEJTEGxV",
        "colab_type": "code",
        "outputId": "582385ad-2ec4-400d-efdf-12a44beeb211",
        "colab": {
          "base_uri": "https://localhost:8080/",
          "height": 35
        }
      },
      "source": [
        "nlp = spacy.load(\"en_core_web_lg\", disable=[\"tagger\", \"parser\", \"ner\"])\n",
        "docs_train = [nlp(d).vector for d in xtrain['description']]\n",
        "X_train = np.vstack(docs_train)\n",
        "X_train.shape"
      ],
      "execution_count": 19,
      "outputs": [
        {
          "output_type": "execute_result",
          "data": {
            "text/plain": [
              "(19753, 300)"
            ]
          },
          "metadata": {
            "tags": []
          },
          "execution_count": 19
        }
      ]
    },
    {
      "cell_type": "code",
      "metadata": {
        "id": "yExRN2JOHQ3S",
        "colab_type": "code",
        "outputId": "d26e2c30-78f3-4126-f54b-a074b482db81",
        "colab": {
          "base_uri": "https://localhost:8080/",
          "height": 35
        }
      },
      "source": [
        "docs_test = [nlp(d).vector for d in xtest['description']]\n",
        "X_test = np.vstack(docs_test)\n",
        "X_test.shape"
      ],
      "execution_count": 20,
      "outputs": [
        {
          "output_type": "execute_result",
          "data": {
            "text/plain": [
              "(4939, 300)"
            ]
          },
          "metadata": {
            "tags": []
          },
          "execution_count": 20
        }
      ]
    },
    {
      "cell_type": "code",
      "metadata": {
        "id": "S_AbSih9HOwu",
        "colab_type": "code",
        "outputId": "b6efd871-55e9-45b8-da08-db3276b5bfa3",
        "colab": {
          "base_uri": "https://localhost:8080/",
          "height": 35
        }
      },
      "source": [
        "ridge_w2v = Ridge()\n",
        "np.mean(cross_val_score(ridge_w2v,X_train,ytrain))"
      ],
      "execution_count": 0,
      "outputs": [
        {
          "output_type": "execute_result",
          "data": {
            "text/plain": [
              "0.5291999978322376"
            ]
          },
          "metadata": {
            "tags": []
          },
          "execution_count": 27
        }
      ]
    },
    {
      "cell_type": "code",
      "metadata": {
        "id": "Rd8Dx0ZKNtY_",
        "colab_type": "code",
        "colab": {}
      },
      "source": [
        "ridge_w2v_grid  = GridSearchCV(ridge_w2v,\n",
        "             param_grid={'alpha': [0.01,0.1,1, 10]})"
      ],
      "execution_count": 0,
      "outputs": []
    },
    {
      "cell_type": "code",
      "metadata": {
        "id": "FhEKV-bcN2tR",
        "colab_type": "code",
        "outputId": "70f8d559-dfb3-4b67-ebb6-bd1473a30ffe",
        "colab": {
          "base_uri": "https://localhost:8080/",
          "height": 146
        }
      },
      "source": [
        "ridge_w2v_grid.fit(X_train,ytrain)"
      ],
      "execution_count": 0,
      "outputs": [
        {
          "output_type": "execute_result",
          "data": {
            "text/plain": [
              "GridSearchCV(cv=None, error_score=nan,\n",
              "             estimator=Ridge(alpha=1.0, copy_X=True, fit_intercept=True,\n",
              "                             max_iter=None, normalize=False, random_state=None,\n",
              "                             solver='auto', tol=0.001),\n",
              "             iid='deprecated', n_jobs=None,\n",
              "             param_grid={'alpha': [0.01, 0.1, 1, 10]}, pre_dispatch='2*n_jobs',\n",
              "             refit=True, return_train_score=False, scoring=None, verbose=0)"
            ]
          },
          "metadata": {
            "tags": []
          },
          "execution_count": 31
        }
      ]
    },
    {
      "cell_type": "code",
      "metadata": {
        "id": "lE6DbfQ4OE_d",
        "colab_type": "code",
        "outputId": "53207605-ab20-43ab-faf0-91cfe687fe53",
        "colab": {
          "base_uri": "https://localhost:8080/",
          "height": 35
        }
      },
      "source": [
        "ridge_w2v_grid.best_params_"
      ],
      "execution_count": 0,
      "outputs": [
        {
          "output_type": "execute_result",
          "data": {
            "text/plain": [
              "{'alpha': 0.1}"
            ]
          },
          "metadata": {
            "tags": []
          },
          "execution_count": 32
        }
      ]
    },
    {
      "cell_type": "code",
      "metadata": {
        "id": "cN_hHXvMOJHO",
        "colab_type": "code",
        "outputId": "b54b556a-2e64-4583-8c16-4344e1b2878e",
        "colab": {
          "base_uri": "https://localhost:8080/",
          "height": 35
        }
      },
      "source": [
        "ridge_w2v_grid.score(X_train,ytrain)"
      ],
      "execution_count": 0,
      "outputs": [
        {
          "output_type": "execute_result",
          "data": {
            "text/plain": [
              "0.5452652068868125"
            ]
          },
          "metadata": {
            "tags": []
          },
          "execution_count": 33
        }
      ]
    },
    {
      "cell_type": "code",
      "metadata": {
        "id": "NcLHzzDXOMYB",
        "colab_type": "code",
        "outputId": "a13e5173-411d-42a9-f19a-ec305dcf003a",
        "colab": {
          "base_uri": "https://localhost:8080/",
          "height": 35
        }
      },
      "source": [
        "ridge_w2v_grid.score(X_test,ytest)"
      ],
      "execution_count": 0,
      "outputs": [
        {
          "output_type": "execute_result",
          "data": {
            "text/plain": [
              "0.5249636795401783"
            ]
          },
          "metadata": {
            "tags": []
          },
          "execution_count": 34
        }
      ]
    },
    {
      "cell_type": "markdown",
      "metadata": {
        "id": "dLKt-BObeDko",
        "colab_type": "text"
      },
      "source": [
        "### We see that using word2vec alone gives a score of 0.525 on the test data."
      ]
    },
    {
      "cell_type": "markdown",
      "metadata": {
        "id": "bnAx_TCHZK2K",
        "colab_type": "text"
      },
      "source": [
        "## 2.2"
      ]
    },
    {
      "cell_type": "code",
      "metadata": {
        "id": "4ztHbmenPUNs",
        "colab_type": "code",
        "colab": {}
      },
      "source": [
        "X_train_combined =pd.concat([xtrain['description'],pd.DataFrame(X_train)],axis=1).reset_index(drop = True)\n",
        "X_test_combined =pd.concat([xtest['description'],pd.DataFrame(X_test)],axis=1).reset_index(drop = True)"
      ],
      "execution_count": 0,
      "outputs": []
    },
    {
      "cell_type": "code",
      "metadata": {
        "id": "NrA-7A_GXcfd",
        "colab_type": "code",
        "colab": {}
      },
      "source": [
        "X_test_combined = pd.DataFrame(xtest['description'])\n",
        "X_test_t = X_test.transpose()\n",
        "for i in range(len(X_test_t)):\n",
        "  X_test_combined[i] = X_test_t[i]"
      ],
      "execution_count": 0,
      "outputs": []
    },
    {
      "cell_type": "code",
      "metadata": {
        "id": "ZLih-9xGW5lI",
        "colab_type": "code",
        "outputId": "2415c478-34cf-4b25-a22f-aaf887c3031d",
        "colab": {
          "base_uri": "https://localhost:8080/",
          "height": 516
        }
      },
      "source": [
        "X_test_combined.head()"
      ],
      "execution_count": 23,
      "outputs": [
        {
          "output_type": "execute_result",
          "data": {
            "text/html": [
              "<div>\n",
              "<style scoped>\n",
              "    .dataframe tbody tr th:only-of-type {\n",
              "        vertical-align: middle;\n",
              "    }\n",
              "\n",
              "    .dataframe tbody tr th {\n",
              "        vertical-align: top;\n",
              "    }\n",
              "\n",
              "    .dataframe thead th {\n",
              "        text-align: right;\n",
              "    }\n",
              "</style>\n",
              "<table border=\"1\" class=\"dataframe\">\n",
              "  <thead>\n",
              "    <tr style=\"text-align: right;\">\n",
              "      <th></th>\n",
              "      <th>description</th>\n",
              "      <th>0</th>\n",
              "      <th>1</th>\n",
              "      <th>2</th>\n",
              "      <th>3</th>\n",
              "      <th>4</th>\n",
              "      <th>5</th>\n",
              "      <th>6</th>\n",
              "      <th>7</th>\n",
              "      <th>8</th>\n",
              "      <th>9</th>\n",
              "      <th>10</th>\n",
              "      <th>11</th>\n",
              "      <th>12</th>\n",
              "      <th>13</th>\n",
              "      <th>14</th>\n",
              "      <th>15</th>\n",
              "      <th>16</th>\n",
              "      <th>17</th>\n",
              "      <th>18</th>\n",
              "      <th>19</th>\n",
              "      <th>20</th>\n",
              "      <th>21</th>\n",
              "      <th>22</th>\n",
              "      <th>23</th>\n",
              "      <th>24</th>\n",
              "      <th>25</th>\n",
              "      <th>26</th>\n",
              "      <th>27</th>\n",
              "      <th>28</th>\n",
              "      <th>29</th>\n",
              "      <th>30</th>\n",
              "      <th>31</th>\n",
              "      <th>32</th>\n",
              "      <th>33</th>\n",
              "      <th>34</th>\n",
              "      <th>35</th>\n",
              "      <th>36</th>\n",
              "      <th>37</th>\n",
              "      <th>38</th>\n",
              "      <th>...</th>\n",
              "      <th>260</th>\n",
              "      <th>261</th>\n",
              "      <th>262</th>\n",
              "      <th>263</th>\n",
              "      <th>264</th>\n",
              "      <th>265</th>\n",
              "      <th>266</th>\n",
              "      <th>267</th>\n",
              "      <th>268</th>\n",
              "      <th>269</th>\n",
              "      <th>270</th>\n",
              "      <th>271</th>\n",
              "      <th>272</th>\n",
              "      <th>273</th>\n",
              "      <th>274</th>\n",
              "      <th>275</th>\n",
              "      <th>276</th>\n",
              "      <th>277</th>\n",
              "      <th>278</th>\n",
              "      <th>279</th>\n",
              "      <th>280</th>\n",
              "      <th>281</th>\n",
              "      <th>282</th>\n",
              "      <th>283</th>\n",
              "      <th>284</th>\n",
              "      <th>285</th>\n",
              "      <th>286</th>\n",
              "      <th>287</th>\n",
              "      <th>288</th>\n",
              "      <th>289</th>\n",
              "      <th>290</th>\n",
              "      <th>291</th>\n",
              "      <th>292</th>\n",
              "      <th>293</th>\n",
              "      <th>294</th>\n",
              "      <th>295</th>\n",
              "      <th>296</th>\n",
              "      <th>297</th>\n",
              "      <th>298</th>\n",
              "      <th>299</th>\n",
              "    </tr>\n",
              "  </thead>\n",
              "  <tbody>\n",
              "    <tr>\n",
              "      <th>19753</th>\n",
              "      <td>Coming from a cool vintage, this shows notes o...</td>\n",
              "      <td>-0.087835</td>\n",
              "      <td>0.220784</td>\n",
              "      <td>-0.195399</td>\n",
              "      <td>-0.018553</td>\n",
              "      <td>0.036995</td>\n",
              "      <td>0.109718</td>\n",
              "      <td>-0.077490</td>\n",
              "      <td>-0.080908</td>\n",
              "      <td>-0.075364</td>\n",
              "      <td>1.584478</td>\n",
              "      <td>-0.070445</td>\n",
              "      <td>0.029889</td>\n",
              "      <td>-0.085423</td>\n",
              "      <td>-0.098759</td>\n",
              "      <td>-0.084579</td>\n",
              "      <td>-0.092608</td>\n",
              "      <td>-0.009120</td>\n",
              "      <td>1.202391</td>\n",
              "      <td>-0.152793</td>\n",
              "      <td>-0.182662</td>\n",
              "      <td>-0.024331</td>\n",
              "      <td>0.006978</td>\n",
              "      <td>0.058895</td>\n",
              "      <td>-0.051208</td>\n",
              "      <td>-0.105861</td>\n",
              "      <td>-0.059650</td>\n",
              "      <td>0.015340</td>\n",
              "      <td>0.089776</td>\n",
              "      <td>0.090473</td>\n",
              "      <td>-0.254913</td>\n",
              "      <td>0.013785</td>\n",
              "      <td>0.124241</td>\n",
              "      <td>0.002330</td>\n",
              "      <td>-0.050477</td>\n",
              "      <td>0.075674</td>\n",
              "      <td>-0.023101</td>\n",
              "      <td>-0.071932</td>\n",
              "      <td>0.035845</td>\n",
              "      <td>-0.110256</td>\n",
              "      <td>...</td>\n",
              "      <td>0.022104</td>\n",
              "      <td>0.068893</td>\n",
              "      <td>0.003842</td>\n",
              "      <td>0.286220</td>\n",
              "      <td>0.064811</td>\n",
              "      <td>-0.021111</td>\n",
              "      <td>-0.100642</td>\n",
              "      <td>-0.019035</td>\n",
              "      <td>0.115954</td>\n",
              "      <td>0.057437</td>\n",
              "      <td>-0.033098</td>\n",
              "      <td>-0.015028</td>\n",
              "      <td>-0.010925</td>\n",
              "      <td>-0.299525</td>\n",
              "      <td>-0.199766</td>\n",
              "      <td>-0.051648</td>\n",
              "      <td>0.043055</td>\n",
              "      <td>0.130235</td>\n",
              "      <td>-0.049844</td>\n",
              "      <td>0.288195</td>\n",
              "      <td>0.141770</td>\n",
              "      <td>0.068662</td>\n",
              "      <td>-0.016663</td>\n",
              "      <td>-0.161337</td>\n",
              "      <td>-0.084370</td>\n",
              "      <td>-0.014130</td>\n",
              "      <td>0.245583</td>\n",
              "      <td>-0.043417</td>\n",
              "      <td>0.191929</td>\n",
              "      <td>-0.120245</td>\n",
              "      <td>-0.123593</td>\n",
              "      <td>0.054399</td>\n",
              "      <td>-0.019500</td>\n",
              "      <td>-0.141139</td>\n",
              "      <td>-0.189016</td>\n",
              "      <td>0.051076</td>\n",
              "      <td>0.067945</td>\n",
              "      <td>-0.147543</td>\n",
              "      <td>-0.044744</td>\n",
              "      <td>0.081354</td>\n",
              "    </tr>\n",
              "    <tr>\n",
              "      <th>19754</th>\n",
              "      <td>Big flavors meet big tannins and full body in ...</td>\n",
              "      <td>-0.133318</td>\n",
              "      <td>0.143544</td>\n",
              "      <td>-0.140851</td>\n",
              "      <td>-0.084155</td>\n",
              "      <td>0.145936</td>\n",
              "      <td>0.051313</td>\n",
              "      <td>-0.036165</td>\n",
              "      <td>0.099609</td>\n",
              "      <td>-0.028091</td>\n",
              "      <td>1.708555</td>\n",
              "      <td>-0.046779</td>\n",
              "      <td>0.104762</td>\n",
              "      <td>-0.056887</td>\n",
              "      <td>-0.154735</td>\n",
              "      <td>-0.101902</td>\n",
              "      <td>-0.106058</td>\n",
              "      <td>-0.016416</td>\n",
              "      <td>1.145432</td>\n",
              "      <td>-0.090619</td>\n",
              "      <td>-0.124641</td>\n",
              "      <td>-0.041439</td>\n",
              "      <td>-0.042964</td>\n",
              "      <td>0.069170</td>\n",
              "      <td>0.026859</td>\n",
              "      <td>-0.052687</td>\n",
              "      <td>-0.082094</td>\n",
              "      <td>0.038501</td>\n",
              "      <td>0.060320</td>\n",
              "      <td>-0.014974</td>\n",
              "      <td>-0.203380</td>\n",
              "      <td>-0.004243</td>\n",
              "      <td>0.135374</td>\n",
              "      <td>-0.034866</td>\n",
              "      <td>-0.069223</td>\n",
              "      <td>0.060696</td>\n",
              "      <td>0.073601</td>\n",
              "      <td>-0.034447</td>\n",
              "      <td>-0.006272</td>\n",
              "      <td>-0.008878</td>\n",
              "      <td>...</td>\n",
              "      <td>0.093118</td>\n",
              "      <td>0.022473</td>\n",
              "      <td>0.028705</td>\n",
              "      <td>0.101095</td>\n",
              "      <td>0.088995</td>\n",
              "      <td>0.028703</td>\n",
              "      <td>-0.136974</td>\n",
              "      <td>0.021318</td>\n",
              "      <td>0.040921</td>\n",
              "      <td>0.040754</td>\n",
              "      <td>0.067333</td>\n",
              "      <td>-0.016927</td>\n",
              "      <td>-0.018995</td>\n",
              "      <td>-0.271766</td>\n",
              "      <td>-0.169293</td>\n",
              "      <td>0.000834</td>\n",
              "      <td>0.028692</td>\n",
              "      <td>0.171621</td>\n",
              "      <td>-0.003887</td>\n",
              "      <td>0.263722</td>\n",
              "      <td>0.116097</td>\n",
              "      <td>0.112751</td>\n",
              "      <td>-0.009279</td>\n",
              "      <td>-0.200285</td>\n",
              "      <td>-0.036034</td>\n",
              "      <td>-0.024643</td>\n",
              "      <td>0.242598</td>\n",
              "      <td>0.001248</td>\n",
              "      <td>0.175299</td>\n",
              "      <td>-0.065868</td>\n",
              "      <td>-0.136006</td>\n",
              "      <td>0.058661</td>\n",
              "      <td>-0.036030</td>\n",
              "      <td>-0.159138</td>\n",
              "      <td>-0.245696</td>\n",
              "      <td>0.012276</td>\n",
              "      <td>0.011853</td>\n",
              "      <td>-0.168598</td>\n",
              "      <td>-0.015460</td>\n",
              "      <td>0.071470</td>\n",
              "    </tr>\n",
              "    <tr>\n",
              "      <th>19755</th>\n",
              "      <td>A dark color and lots of fresh-fruit aromas le...</td>\n",
              "      <td>-0.097213</td>\n",
              "      <td>0.220340</td>\n",
              "      <td>-0.119215</td>\n",
              "      <td>-0.084741</td>\n",
              "      <td>0.116802</td>\n",
              "      <td>0.087163</td>\n",
              "      <td>-0.004766</td>\n",
              "      <td>0.053009</td>\n",
              "      <td>-0.049256</td>\n",
              "      <td>1.713745</td>\n",
              "      <td>-0.080521</td>\n",
              "      <td>0.109475</td>\n",
              "      <td>-0.142141</td>\n",
              "      <td>-0.119166</td>\n",
              "      <td>-0.115734</td>\n",
              "      <td>-0.145416</td>\n",
              "      <td>-0.034968</td>\n",
              "      <td>1.247268</td>\n",
              "      <td>-0.126107</td>\n",
              "      <td>-0.158354</td>\n",
              "      <td>-0.064113</td>\n",
              "      <td>-0.025110</td>\n",
              "      <td>0.023828</td>\n",
              "      <td>-0.045359</td>\n",
              "      <td>-0.008374</td>\n",
              "      <td>-0.092764</td>\n",
              "      <td>0.123313</td>\n",
              "      <td>0.078380</td>\n",
              "      <td>0.096104</td>\n",
              "      <td>-0.214418</td>\n",
              "      <td>-0.030899</td>\n",
              "      <td>0.115669</td>\n",
              "      <td>-0.050874</td>\n",
              "      <td>-0.090225</td>\n",
              "      <td>0.131647</td>\n",
              "      <td>-0.030816</td>\n",
              "      <td>-0.004971</td>\n",
              "      <td>-0.034411</td>\n",
              "      <td>-0.060521</td>\n",
              "      <td>...</td>\n",
              "      <td>0.052219</td>\n",
              "      <td>0.048216</td>\n",
              "      <td>0.045410</td>\n",
              "      <td>0.194110</td>\n",
              "      <td>0.093619</td>\n",
              "      <td>-0.067175</td>\n",
              "      <td>-0.166274</td>\n",
              "      <td>0.009510</td>\n",
              "      <td>0.118061</td>\n",
              "      <td>0.014385</td>\n",
              "      <td>-0.012348</td>\n",
              "      <td>0.032905</td>\n",
              "      <td>-0.023453</td>\n",
              "      <td>-0.275722</td>\n",
              "      <td>-0.210281</td>\n",
              "      <td>0.039333</td>\n",
              "      <td>0.062398</td>\n",
              "      <td>0.143928</td>\n",
              "      <td>-0.012783</td>\n",
              "      <td>0.369179</td>\n",
              "      <td>0.225779</td>\n",
              "      <td>0.078080</td>\n",
              "      <td>0.065537</td>\n",
              "      <td>-0.166659</td>\n",
              "      <td>-0.088129</td>\n",
              "      <td>0.000602</td>\n",
              "      <td>0.228459</td>\n",
              "      <td>0.058266</td>\n",
              "      <td>0.220634</td>\n",
              "      <td>-0.079443</td>\n",
              "      <td>-0.216000</td>\n",
              "      <td>0.069691</td>\n",
              "      <td>-0.094203</td>\n",
              "      <td>-0.159827</td>\n",
              "      <td>-0.187282</td>\n",
              "      <td>0.054797</td>\n",
              "      <td>0.062078</td>\n",
              "      <td>-0.254630</td>\n",
              "      <td>-0.015252</td>\n",
              "      <td>0.109346</td>\n",
              "    </tr>\n",
              "    <tr>\n",
              "      <th>19756</th>\n",
              "      <td>A roughly equal blend of Tempranillo and Grena...</td>\n",
              "      <td>-0.107777</td>\n",
              "      <td>0.163723</td>\n",
              "      <td>-0.057129</td>\n",
              "      <td>-0.113060</td>\n",
              "      <td>0.120171</td>\n",
              "      <td>0.035636</td>\n",
              "      <td>-0.072921</td>\n",
              "      <td>0.024556</td>\n",
              "      <td>0.047854</td>\n",
              "      <td>1.557607</td>\n",
              "      <td>-0.137306</td>\n",
              "      <td>0.066518</td>\n",
              "      <td>-0.163336</td>\n",
              "      <td>-0.077045</td>\n",
              "      <td>-0.008675</td>\n",
              "      <td>-0.120870</td>\n",
              "      <td>-0.081200</td>\n",
              "      <td>0.956406</td>\n",
              "      <td>-0.059023</td>\n",
              "      <td>-0.228800</td>\n",
              "      <td>-0.013903</td>\n",
              "      <td>-0.038537</td>\n",
              "      <td>0.027218</td>\n",
              "      <td>0.030198</td>\n",
              "      <td>0.005492</td>\n",
              "      <td>-0.106118</td>\n",
              "      <td>0.058155</td>\n",
              "      <td>0.017285</td>\n",
              "      <td>0.032006</td>\n",
              "      <td>-0.213616</td>\n",
              "      <td>0.022120</td>\n",
              "      <td>0.127560</td>\n",
              "      <td>-0.012610</td>\n",
              "      <td>0.023898</td>\n",
              "      <td>0.110933</td>\n",
              "      <td>-0.019412</td>\n",
              "      <td>0.018432</td>\n",
              "      <td>-0.045611</td>\n",
              "      <td>-0.070998</td>\n",
              "      <td>...</td>\n",
              "      <td>0.105321</td>\n",
              "      <td>0.032000</td>\n",
              "      <td>0.035421</td>\n",
              "      <td>0.069311</td>\n",
              "      <td>0.137816</td>\n",
              "      <td>-0.062882</td>\n",
              "      <td>-0.110404</td>\n",
              "      <td>-0.020011</td>\n",
              "      <td>0.061422</td>\n",
              "      <td>-0.048816</td>\n",
              "      <td>-0.005368</td>\n",
              "      <td>-0.041452</td>\n",
              "      <td>-0.053133</td>\n",
              "      <td>-0.245345</td>\n",
              "      <td>-0.177292</td>\n",
              "      <td>-0.053427</td>\n",
              "      <td>-0.078440</td>\n",
              "      <td>0.060500</td>\n",
              "      <td>0.001349</td>\n",
              "      <td>0.295367</td>\n",
              "      <td>0.169679</td>\n",
              "      <td>0.172181</td>\n",
              "      <td>0.048092</td>\n",
              "      <td>-0.196423</td>\n",
              "      <td>-0.062314</td>\n",
              "      <td>0.039577</td>\n",
              "      <td>0.188408</td>\n",
              "      <td>0.000164</td>\n",
              "      <td>0.140885</td>\n",
              "      <td>-0.064045</td>\n",
              "      <td>-0.125809</td>\n",
              "      <td>0.116862</td>\n",
              "      <td>-0.059992</td>\n",
              "      <td>-0.087129</td>\n",
              "      <td>-0.244728</td>\n",
              "      <td>0.006858</td>\n",
              "      <td>0.037542</td>\n",
              "      <td>-0.234999</td>\n",
              "      <td>0.018908</td>\n",
              "      <td>0.108007</td>\n",
              "    </tr>\n",
              "    <tr>\n",
              "      <th>19757</th>\n",
              "      <td>A smoky, slightly rubbery aroma is off-putting...</td>\n",
              "      <td>-0.017378</td>\n",
              "      <td>0.178470</td>\n",
              "      <td>-0.100427</td>\n",
              "      <td>-0.010108</td>\n",
              "      <td>0.058156</td>\n",
              "      <td>0.045844</td>\n",
              "      <td>-0.026004</td>\n",
              "      <td>-0.001077</td>\n",
              "      <td>-0.022595</td>\n",
              "      <td>1.612384</td>\n",
              "      <td>-0.042105</td>\n",
              "      <td>0.087551</td>\n",
              "      <td>-0.101467</td>\n",
              "      <td>-0.118082</td>\n",
              "      <td>-0.085777</td>\n",
              "      <td>-0.166338</td>\n",
              "      <td>0.022786</td>\n",
              "      <td>1.164500</td>\n",
              "      <td>-0.053519</td>\n",
              "      <td>-0.187002</td>\n",
              "      <td>-0.053007</td>\n",
              "      <td>-0.010666</td>\n",
              "      <td>0.107780</td>\n",
              "      <td>0.029752</td>\n",
              "      <td>-0.037953</td>\n",
              "      <td>-0.078279</td>\n",
              "      <td>0.041216</td>\n",
              "      <td>0.053524</td>\n",
              "      <td>0.064117</td>\n",
              "      <td>-0.291399</td>\n",
              "      <td>-0.056044</td>\n",
              "      <td>0.066218</td>\n",
              "      <td>-0.040390</td>\n",
              "      <td>-0.115503</td>\n",
              "      <td>0.093891</td>\n",
              "      <td>-0.019307</td>\n",
              "      <td>0.042980</td>\n",
              "      <td>0.059341</td>\n",
              "      <td>-0.027995</td>\n",
              "      <td>...</td>\n",
              "      <td>0.050424</td>\n",
              "      <td>-0.023538</td>\n",
              "      <td>0.066192</td>\n",
              "      <td>0.133436</td>\n",
              "      <td>0.091102</td>\n",
              "      <td>-0.004493</td>\n",
              "      <td>-0.130843</td>\n",
              "      <td>-0.059920</td>\n",
              "      <td>-0.021641</td>\n",
              "      <td>0.044775</td>\n",
              "      <td>0.164059</td>\n",
              "      <td>-0.030510</td>\n",
              "      <td>-0.031316</td>\n",
              "      <td>-0.265175</td>\n",
              "      <td>-0.212941</td>\n",
              "      <td>0.099855</td>\n",
              "      <td>0.053829</td>\n",
              "      <td>0.098240</td>\n",
              "      <td>-0.043813</td>\n",
              "      <td>0.369307</td>\n",
              "      <td>0.215623</td>\n",
              "      <td>0.080485</td>\n",
              "      <td>0.087089</td>\n",
              "      <td>-0.184211</td>\n",
              "      <td>-0.132279</td>\n",
              "      <td>-0.029113</td>\n",
              "      <td>0.215328</td>\n",
              "      <td>-0.000062</td>\n",
              "      <td>0.291124</td>\n",
              "      <td>-0.065410</td>\n",
              "      <td>-0.119851</td>\n",
              "      <td>0.079081</td>\n",
              "      <td>-0.090816</td>\n",
              "      <td>-0.143637</td>\n",
              "      <td>-0.207910</td>\n",
              "      <td>0.060074</td>\n",
              "      <td>0.149188</td>\n",
              "      <td>-0.209653</td>\n",
              "      <td>-0.046241</td>\n",
              "      <td>0.096529</td>\n",
              "    </tr>\n",
              "  </tbody>\n",
              "</table>\n",
              "<p>5 rows × 301 columns</p>\n",
              "</div>"
            ],
            "text/plain": [
              "                                             description  ...       299\n",
              "19753  Coming from a cool vintage, this shows notes o...  ...  0.081354\n",
              "19754  Big flavors meet big tannins and full body in ...  ...  0.071470\n",
              "19755  A dark color and lots of fresh-fruit aromas le...  ...  0.109346\n",
              "19756  A roughly equal blend of Tempranillo and Grena...  ...  0.108007\n",
              "19757  A smoky, slightly rubbery aroma is off-putting...  ...  0.096529\n",
              "\n",
              "[5 rows x 301 columns]"
            ]
          },
          "metadata": {
            "tags": []
          },
          "execution_count": 23
        }
      ]
    },
    {
      "cell_type": "code",
      "metadata": {
        "id": "zZpsshxHSrRW",
        "colab_type": "code",
        "colab": {}
      },
      "source": [
        "text_pipe = make_pipeline(\n",
        "    CountVectorizer(token_pattern=r'\\b\\w+\\b', stop_words=\"english\", #min_df=10, max_df = 20000,\n",
        "                    ngram_range=(1,3), analyzer=\"char\"),\n",
        "    TfidfTransformer()\n",
        ")\n",
        "\n",
        "preprocess = make_column_transformer(\n",
        "    (text_pipe, \"description\"),\n",
        "    remainder = 'passthrough'\n",
        ")\n",
        "\n",
        "#pipeline\n",
        "pipe = make_pipeline(preprocess, Ridge())"
      ],
      "execution_count": 0,
      "outputs": []
    },
    {
      "cell_type": "code",
      "metadata": {
        "id": "gtARMQPsTlJ3",
        "colab_type": "code",
        "colab": {}
      },
      "source": [
        "ridge_combined_grid  = GridSearchCV(pipe,\n",
        "             param_grid={'ridge__alpha': [0.01,0.1,1, 10]})"
      ],
      "execution_count": 0,
      "outputs": []
    },
    {
      "cell_type": "code",
      "metadata": {
        "id": "VuRQM-5jTn5x",
        "colab_type": "code",
        "outputId": "5eafbfe6-427c-4bb4-8cd3-b870c307eb5b",
        "colab": {
          "base_uri": "https://localhost:8080/",
          "height": 553
        }
      },
      "source": [
        "ridge_combined_grid.fit(X_train_combined,ytrain)"
      ],
      "execution_count": 35,
      "outputs": [
        {
          "output_type": "execute_result",
          "data": {
            "text/plain": [
              "GridSearchCV(cv=None, error_score=nan,\n",
              "             estimator=Pipeline(memory=None,\n",
              "                                steps=[('columntransformer',\n",
              "                                        ColumnTransformer(n_jobs=None,\n",
              "                                                          remainder='passthrough',\n",
              "                                                          sparse_threshold=0.3,\n",
              "                                                          transformer_weights=None,\n",
              "                                                          transformers=[('pipeline',\n",
              "                                                                         Pipeline(memory=None,\n",
              "                                                                                  steps=[('countvectorizer',\n",
              "                                                                                          CountVectorizer(analyzer='char',\n",
              "                                                                                                          binary=False,\n",
              "                                                                                                          decode_error='strict',\n",
              "                                                                                                          dtype=<class 'n...\n",
              "                                                                                                           use_idf=True))],\n",
              "                                                                                  verbose=False),\n",
              "                                                                         'description')],\n",
              "                                                          verbose=False)),\n",
              "                                       ('ridge',\n",
              "                                        Ridge(alpha=1.0, copy_X=True,\n",
              "                                              fit_intercept=True, max_iter=None,\n",
              "                                              normalize=False,\n",
              "                                              random_state=None, solver='auto',\n",
              "                                              tol=0.001))],\n",
              "                                verbose=False),\n",
              "             iid='deprecated', n_jobs=None,\n",
              "             param_grid={'ridge__alpha': [0.01, 0.1, 1, 10]},\n",
              "             pre_dispatch='2*n_jobs', refit=True, return_train_score=False,\n",
              "             scoring=None, verbose=0)"
            ]
          },
          "metadata": {
            "tags": []
          },
          "execution_count": 35
        }
      ]
    },
    {
      "cell_type": "code",
      "metadata": {
        "id": "dK_2IkWWTwED",
        "colab_type": "code",
        "outputId": "e7e15ab4-b456-42c2-ec02-ba662dde2dae",
        "colab": {
          "base_uri": "https://localhost:8080/",
          "height": 35
        }
      },
      "source": [
        "ridge_combined_grid.best_params_"
      ],
      "execution_count": 36,
      "outputs": [
        {
          "output_type": "execute_result",
          "data": {
            "text/plain": [
              "{'ridge__alpha': 1}"
            ]
          },
          "metadata": {
            "tags": []
          },
          "execution_count": 36
        }
      ]
    },
    {
      "cell_type": "code",
      "metadata": {
        "id": "eYRQZXjCVCeX",
        "colab_type": "code",
        "outputId": "5dd5684b-fc78-46ad-9d08-d15171bc04e5",
        "colab": {
          "base_uri": "https://localhost:8080/",
          "height": 35
        }
      },
      "source": [
        "ridge_combined_grid.score(X_train_combined,ytrain)"
      ],
      "execution_count": 37,
      "outputs": [
        {
          "output_type": "execute_result",
          "data": {
            "text/plain": [
              "0.7384022965534176"
            ]
          },
          "metadata": {
            "tags": []
          },
          "execution_count": 37
        }
      ]
    },
    {
      "cell_type": "code",
      "metadata": {
        "id": "J_DSUV4CVK8h",
        "colab_type": "code",
        "outputId": "39cfd75b-1786-42ac-c7f2-c249a579dc6a",
        "colab": {
          "base_uri": "https://localhost:8080/",
          "height": 35
        }
      },
      "source": [
        "ridge_combined_grid.score(X_test_combined,ytest)"
      ],
      "execution_count": 38,
      "outputs": [
        {
          "output_type": "execute_result",
          "data": {
            "text/plain": [
              "0.6754073764152402"
            ]
          },
          "metadata": {
            "tags": []
          },
          "execution_count": 38
        }
      ]
    },
    {
      "cell_type": "markdown",
      "metadata": {
        "id": "ys_i8O9AeTxI",
        "colab_type": "text"
      },
      "source": [
        "## We see that the model using word2vec embeddings along with our best BOW model gives a score of 0.675 on the test data."
      ]
    },
    {
      "cell_type": "markdown",
      "metadata": {
        "id": "1l1TBwrOedFo",
        "colab_type": "text"
      },
      "source": [
        "## R2 on test data using the 3 models:\n",
        "### Baseline: 0.415\n",
        "### (1,3) grams: 0.657\n",
        "### Text + Non text: 0.727\n",
        "### Word2Vec : 0.525\n",
        "### Word2Vec + ngram : 0.675"
      ]
    },
    {
      "cell_type": "markdown",
      "metadata": {
        "id": "VzzrZMhOepxZ",
        "colab_type": "text"
      },
      "source": [
        "### Thus, the model that performs best overall on the test data amongst these models is the model combining BOW ngram features and non-text features from task 1.4"
      ]
    }
  ]
}